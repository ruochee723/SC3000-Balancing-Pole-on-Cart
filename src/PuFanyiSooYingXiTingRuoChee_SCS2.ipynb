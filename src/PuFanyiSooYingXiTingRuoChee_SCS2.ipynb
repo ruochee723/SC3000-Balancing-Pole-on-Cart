{
 "cells": [
  {
   "cell_type": "markdown",
   "metadata": {
    "colab_type": "text",
    "id": "view-in-github"
   },
   "source": [
    "<a href=\"https://colab.research.google.com/github/ruochee723/SC3000-Balancing-Pole-on-Cart/blob/main/src/cartpole.ipynb\" target=\"_parent\"><img src=\"https://colab.research.google.com/assets/colab-badge.svg\" alt=\"Open In Colab\"/></a>"
   ]
  },
  {
   "cell_type": "markdown",
   "metadata": {},
   "source": [
    "# Contributions\n",
    "\n",
    "| Name | Matric Number |\n",
    "|:---:|:---:|\n",
    "|Pu Fanyi | U2220175K |\n",
    "|Soo Ying Xi | | \n",
    "|Ting Ruo Chee| |"
   ]
  },
  {
   "cell_type": "markdown",
   "metadata": {
    "id": "ZauhjPSfX7pI"
   },
   "source": [
    "# Tutorial and Sample Code for Balancing a Pole on a Cart"
   ]
  },
  {
   "cell_type": "markdown",
   "metadata": {
    "id": "RwKbYeTgbaTA"
   },
   "source": [
    "## Importing dependencies and define helper functions"
   ]
  },
  {
   "cell_type": "code",
   "execution_count": 1,
   "metadata": {
    "id": "j6KpgCLGYWmj"
   },
   "outputs": [],
   "source": [
    "import gym\n",
    "from gym import logger as gymlogger\n",
    "from gym.wrappers import RecordVideo\n",
    "\n",
    "# gymlogger.set_level(40)  # error only\n",
    "import numpy as np\n",
    "import random\n",
    "import matplotlib\n",
    "import matplotlib.pyplot as plt\n",
    "\n",
    "import math\n",
    "import glob\n",
    "import io\n",
    "import base64\n",
    "import torch\n",
    "\n",
    "from typing import Tuple\n",
    "\n",
    "random.seed(42)\n",
    "gymlogger.set_level(10)  # debug"
   ]
  },
  {
   "cell_type": "markdown",
   "metadata": {
    "id": "2oIzK9SzhlWN"
   },
   "source": [
    "## Task 1: Development of an RL agent\n",
    "\n",
    "First, we create an instance of the CartPole environment and define the ranges of the cart position and pole angle."
   ]
  },
  {
   "cell_type": "code",
   "execution_count": 2,
   "metadata": {},
   "outputs": [],
   "source": [
    "env = gym.make(\"CartPole-v1\")"
   ]
  },
  {
   "cell_type": "code",
   "execution_count": 3,
   "metadata": {},
   "outputs": [],
   "source": [
    "POSITION_RANGE = 4.8\n",
    "ANGLE_RANGE = 0.418\n",
    "\n",
    "NUM_BINS = {\n",
    "    \"position\": 30,\n",
    "    \"velocity\": 30,\n",
    "    \"pole_angle\": 30,\n",
    "    \"pole_velocity\": 30,\n",
    "}"
   ]
  },
  {
   "cell_type": "markdown",
   "metadata": {},
   "source": [
    "The observation space has $4$ values, and each value has a range of continuous numerical data. So, we define a function called `discretize` (...) to turn each value into a discrete value, which is an integer between $0$ to $29$ (inclusive).\n",
    "\n",
    "We also note that the cart velocity and pole angle velocity have infinite range. So, we use a sigmoid function, $\\sigma(x)=\\frac{1}{1+e^{-x}}$, to trap the range of values between $-1$ and $1$.\n",
    "\n",
    "Finally, we combine the $4$ discretized values to compute the hashed state of the cartpole, which is a single integer."
   ]
  },
  {
   "cell_type": "code",
   "execution_count": 4,
   "metadata": {},
   "outputs": [],
   "source": [
    "def discretize(x: float, min_val: float, max_val: float, num_bins: int) -> int:\n",
    "    if x > max_val:\n",
    "        return num_bins - 1\n",
    "    elif x < min_val:\n",
    "        return 0\n",
    "    else:\n",
    "        return round((x - min_val) / (max_val - min_val) * (num_bins - 1))"
   ]
  },
  {
   "cell_type": "code",
   "execution_count": 5,
   "metadata": {},
   "outputs": [],
   "source": [
    "from scipy.special import expit as sigmoid\n",
    "from typing import Dict\n",
    "\n",
    "\n",
    "def get_num_states():\n",
    "    num_states = 1\n",
    "    for num_bins in NUM_BINS.values():\n",
    "        num_states *= num_bins\n",
    "    return num_states\n",
    "\n",
    "\n",
    "NUM_STATES = get_num_states()\n",
    "\n",
    "\n",
    "class Observation(object):\n",
    "    def __init__(self, observation):\n",
    "        if isinstance(observation, tuple):\n",
    "            observation = observation[0]\n",
    "        self.observation = observation\n",
    "\n",
    "    def position(self):\n",
    "        return self.observation[0]\n",
    "\n",
    "    def velocity(self):\n",
    "        return self.observation[1]\n",
    "\n",
    "    def pole_angle(self):\n",
    "        return self.observation[2]\n",
    "\n",
    "    def pole_velocity(self):\n",
    "        return self.observation[3]\n",
    "\n",
    "    def get_hashed_state_dict(self) -> Dict[str, int]:\n",
    "        return {\n",
    "            \"position\": discretize(\n",
    "                self.position(), -POSITION_RANGE, POSITION_RANGE, NUM_BINS[\"position\"]\n",
    "            ),\n",
    "            \"velocity\": discretize(\n",
    "                sigmoid(self.velocity()),\n",
    "                -1,\n",
    "                1,\n",
    "                NUM_BINS[\"velocity\"],\n",
    "            ),\n",
    "            \"pole_angle\": discretize(\n",
    "                self.pole_angle(), -ANGLE_RANGE, ANGLE_RANGE, NUM_BINS[\"pole_angle\"]\n",
    "            ),\n",
    "            \"pole_velocity\": discretize(\n",
    "                sigmoid(self.pole_velocity()),\n",
    "                -1,\n",
    "                1,\n",
    "                NUM_BINS[\"pole_velocity\"],\n",
    "            ),\n",
    "        }\n",
    "\n",
    "    def get_hashed_state(self) -> int:\n",
    "        hashed_state_tuple = self.get_hashed_state_dict()\n",
    "        mul = 1\n",
    "        hashed_state = 0\n",
    "        for key, val in hashed_state_tuple.items():\n",
    "            hashed_state += val * mul\n",
    "            mul *= NUM_BINS[key]\n",
    "        assert 0 <= hashed_state < NUM_STATES\n",
    "        return hashed_state\n",
    "\n",
    "    def get_vector(self) -> torch.Tensor:\n",
    "        return torch.tensor(self.observation, dtype=torch.float32).unsqueeze(0)\n",
    "\n",
    "\n",
    "def get_hashed_state(observation: np.ndarray) -> int:\n",
    "    return Observation(observation).get_hashed_state()"
   ]
  },
  {
   "cell_type": "markdown",
   "metadata": {},
   "source": [
    "### Abstract Class for RL Agent"
   ]
  },
  {
   "cell_type": "code",
   "execution_count": 6,
   "metadata": {},
   "outputs": [],
   "source": [
    "from abc import ABC, abstractmethod\n",
    "\n",
    "\n",
    "class Agent(ABC):\n",
    "    def __init__(self, name: str):\n",
    "        self.name = name\n",
    "\n",
    "    @abstractmethod\n",
    "    def _get_action(self, observation: Observation) -> int:\n",
    "        raise NotImplementedError\n",
    "\n",
    "    def get_action(self, observation: np.ndarray) -> int:\n",
    "        return self._get_action(Observation(observation))\n",
    "\n",
    "    def __call__(self, observation: np.ndarray) -> int:\n",
    "        return self.get_action(observation)"
   ]
  },
  {
   "cell_type": "code",
   "execution_count": 7,
   "metadata": {},
   "outputs": [],
   "source": [
    "from tqdm import trange\n",
    "\n",
    "\n",
    "class TrainableAgent(Agent, ABC):\n",
    "    def __init__(self, name: str):\n",
    "        self.episode_rewards = []\n",
    "        super().__init__(name)\n",
    "\n",
    "    def plot_rewards(self, smooth=100):\n",
    "        index, rewards = map(np.array, zip(*self.episode_rewards))\n",
    "        rewards = np.convolve(rewards, np.ones(smooth) / smooth, mode=\"valid\")\n",
    "        plt.plot(rewards)\n",
    "        plt.xlabel(\"Episode\")\n",
    "        plt.ylabel(\"Reward\")\n",
    "        plt.title(f\"Rewards for {self.name}\")\n",
    "        plt.show()\n",
    "\n",
    "    def train(self, env: gym.Env, num_episodes: int, plot=False, plot_smooth=100):\n",
    "        self.episode_rewards = []\n",
    "        for t in trange(num_episodes, desc=f\"Training {self.name}\", unit=\"episode\"):\n",
    "            reward = self.train_episode(env)\n",
    "            self.episode_rewards.append((t + 1, reward))\n",
    "        if plot:\n",
    "            self.plot_rewards(smooth=plot_smooth)\n",
    "\n",
    "    @abstractmethod\n",
    "    def train_episode(self, env: gym.Env) -> int:\n",
    "        raise NotImplementedError\n",
    "\n",
    "    @abstractmethod\n",
    "    def save(self, path: str) -> None:\n",
    "        raise NotImplementedError\n",
    "\n",
    "    @abstractmethod\n",
    "    def load(self, path: str) -> None:\n",
    "        raise NotImplementedError"
   ]
  },
  {
   "cell_type": "markdown",
   "metadata": {},
   "source": [
    "### Random Agent"
   ]
  },
  {
   "cell_type": "code",
   "execution_count": 8,
   "metadata": {},
   "outputs": [],
   "source": [
    "class RandomAgent(Agent):\n",
    "    def __init__(self):\n",
    "        super().__init__(\"RandomAgent\")\n",
    "\n",
    "    def _get_action(self, observation: Observation) -> int:\n",
    "        return random.randint(0, 1)"
   ]
  },
  {
   "cell_type": "markdown",
   "metadata": {},
   "source": [
    "### Q Learning Agent"
   ]
  },
  {
   "cell_type": "code",
   "execution_count": 9,
   "metadata": {},
   "outputs": [],
   "source": [
    "import os\n",
    "import yaml\n",
    "import datetime\n",
    "from tqdm import trange\n",
    "import pickle\n",
    "\n",
    "\n",
    "class QLearningAgent(TrainableAgent):\n",
    "    def __init__(\n",
    "        self,\n",
    "        *,\n",
    "        file_path: str = None,\n",
    "        state_space_size: int = NUM_STATES,\n",
    "        action_space_size: int = 2,\n",
    "        alpha: float = 0.1,\n",
    "        gamma: float = 0.99,\n",
    "        epsilon: float = 0.1,\n",
    "    ):\n",
    "        super().__init__(\"QLearningAgent\")\n",
    "        if file_path is not None:\n",
    "            self.load(file_path)\n",
    "        else:\n",
    "            self.state_space_size = state_space_size\n",
    "            self.action_space_size = action_space_size\n",
    "            self.alpha = alpha\n",
    "            self.gamma = gamma\n",
    "            self.epsilon = epsilon\n",
    "            self.q_table = np.zeros((state_space_size, action_space_size))\n",
    "        self.time = datetime.datetime.now().strftime(\"%Y-%m-%d_%H-%M-%S\")\n",
    "\n",
    "    def reset(self):\n",
    "        self.q_table = np.zeros((self.state_space_size, self.action_space_size))\n",
    "\n",
    "    def _get_action(self, observation: Observation) -> int:\n",
    "        return np.argmax(self.q_table[observation.get_hashed_state(), :])\n",
    "\n",
    "    def train_episode(self, env: gym.Env):\n",
    "        observation = env.reset()\n",
    "        state = get_hashed_state(observation)\n",
    "        done = False\n",
    "        truncated = False\n",
    "        sum_reward = 0\n",
    "        while not done and not truncated and sum_reward < 500:\n",
    "            if random.random() < self.epsilon:\n",
    "                action = random.randint(0, 1)\n",
    "            else:\n",
    "                action = self.get_action(observation)\n",
    "            next_observation, reward, done, truncated, info = env.step(action)\n",
    "            next_state = get_hashed_state(next_observation)\n",
    "            self.q_table[state, action] += self.alpha * (\n",
    "                reward\n",
    "                + self.gamma * np.max(self.q_table[next_state, :])\n",
    "                - self.q_table[state, action]\n",
    "            )\n",
    "            sum_reward += reward\n",
    "            state = next_state\n",
    "            observation = next_observation\n",
    "        return sum_reward\n",
    "\n",
    "    def save(self, path: str = \"models\", model_name: str = None):\n",
    "        os.makedirs(path, exist_ok=True)\n",
    "        if model_name is None:\n",
    "            name = f\"{self.name}_{self.time}.pkl\"\n",
    "        elif model_name.endswith(\"pkl\"):\n",
    "            name = model_name\n",
    "        else:\n",
    "            name = f\"{model_name}_{self.time}.pkl\"\n",
    "        path = os.path.join(path, name)\n",
    "        path = os.path.abspath(path)\n",
    "        with open(path, \"wb\") as f:\n",
    "            data = {\n",
    "                \"time\": self.time,\n",
    "                \"state_space_size\": self.state_space_size,\n",
    "                \"action_space_size\": self.action_space_size,\n",
    "                \"alpha\": self.alpha,\n",
    "                \"gamma\": self.gamma,\n",
    "                \"epsilon\": self.epsilon,\n",
    "                \"q_table\": self.q_table,\n",
    "            }\n",
    "            pickle.dump(data, f)\n",
    "        gymlogger.info(f\"Saved {self.name} to {path}\")\n",
    "        return path\n",
    "\n",
    "    def load(self, path: str):\n",
    "        with open(path, \"rb\") as f:\n",
    "            data = pickle.load(f)\n",
    "            self.time = data[\"time\"]\n",
    "            self.state_space_size = data[\"state_space_size\"]\n",
    "            self.action_space_size = data[\"action_space_size\"]\n",
    "            self.alpha = data[\"alpha\"]\n",
    "            self.gamma = data[\"gamma\"]\n",
    "            self.epsilon = data[\"epsilon\"]\n",
    "            self.q_table = data[\"q_table\"]\n",
    "        gymlogger.info(f\"Loaded {self.name} from {path}\")"
   ]
  },
  {
   "cell_type": "markdown",
   "metadata": {},
   "source": [
    "We train the Q-Learning agent for 100 episodes. Then we sample a random state from the environment and output the action chosen by the trained agent."
   ]
  },
  {
   "cell_type": "code",
   "execution_count": 10,
   "metadata": {},
   "outputs": [
    {
     "name": "stderr",
     "output_type": "stream",
     "text": [
      "Training QLearningAgent:   0%|          | 0/100 [00:00<?, ?episode/s]/data/fypu/anaconda3/envs/SC3000/lib/python3.9/site-packages/gym/utils/passive_env_checker.py:233: DeprecationWarning: `np.bool8` is a deprecated alias for `np.bool_`.  (Deprecated NumPy 1.24)\n",
      "  if not isinstance(terminated, (bool, np.bool8)):\n",
      "Training QLearningAgent: 100%|██████████| 100/100 [00:00<00:00, 710.29episode/s]"
     ]
    },
    {
     "name": "stdout",
     "output_type": "stream",
     "text": [
      "Observation: (array([-0.00791489,  0.01375793,  0.02742227, -0.03168927], dtype=float32), {})\n",
      "Chosen action: 1\n"
     ]
    },
    {
     "name": "stderr",
     "output_type": "stream",
     "text": [
      "\n"
     ]
    }
   ],
   "source": [
    "env.reset()\n",
    "q_learning_agent = QLearningAgent()\n",
    "q_learning_agent.train(env, num_episodes=100, plot=False)\n",
    "observation = env.reset()\n",
    "action = q_learning_agent(observation)\n",
    "print(\"Observation:\", observation)\n",
    "print(\"Chosen action:\", action)"
   ]
  },
  {
   "cell_type": "markdown",
   "metadata": {},
   "source": [
    "### Deep Q Learning Agent"
   ]
  },
  {
   "cell_type": "code",
   "execution_count": 17,
   "metadata": {},
   "outputs": [],
   "source": [
    "import torch\n",
    "\n",
    "\n",
    "class QNetwork(torch.nn.Module):\n",
    "    def __init__(\n",
    "        self,\n",
    "        state_space_dim: int,\n",
    "        action_space_size: int,\n",
    "        hidden_size=128,\n",
    "        hidden_layers=2,\n",
    "    ):\n",
    "        super(QNetwork, self).__init__()\n",
    "        self.layers = []\n",
    "        self.layers.append(torch.nn.Linear(state_space_dim, hidden_size))\n",
    "        for _ in range(hidden_layers - 1):\n",
    "            self.layers.append(torch.nn.Linear(hidden_size, hidden_size))\n",
    "        self.layers.append(torch.nn.Linear(hidden_size, action_space_size))\n",
    "        self.layers = torch.nn.ModuleList(self.layers)\n",
    "\n",
    "    def forward(self, state):\n",
    "        for layer in self.layers[:-1]:\n",
    "            state = torch.nn.functional.relu(layer(state))\n",
    "        return self.layers[-1](state)\n",
    "\n",
    "\n",
    "import itertools\n",
    "import pickle\n",
    "from typing import Optional\n",
    "from collections import deque, namedtuple\n",
    "import json\n",
    "\n",
    "Transition = namedtuple(\"Transition\", (\"state\", \"action\", \"next_state\", \"reward\"))\n",
    "\n",
    "\n",
    "class ReplayMemory(object):\n",
    "    def __init__(self, capacity):\n",
    "        self.memory = deque([], maxlen=capacity)\n",
    "\n",
    "    def push(self, *args):\n",
    "        self.memory.append(Transition(*args))\n",
    "\n",
    "    def sample(self, batch_size):\n",
    "        return random.sample(self.memory, batch_size)\n",
    "\n",
    "    def __len__(self):\n",
    "        return len(self.memory)\n",
    "\n",
    "    def save(self, path: str = \"memory.pkl\"):\n",
    "        with open(path, \"wb\") as f:\n",
    "            pickle.dump(self.memory, f)\n",
    "\n",
    "    def load(self, path: str = \"memory.pkl\"):\n",
    "        with open(path, \"rb\") as f:\n",
    "            self.memory = pickle.load(f)\n",
    "\n",
    "\n",
    "class DeepQLearningAgent(TrainableAgent):\n",
    "    def __init__(\n",
    "        self,\n",
    "        state_space_dim=None,\n",
    "        action_space_size=None,\n",
    "        *,\n",
    "        file_name: Optional[str] = None,\n",
    "        batch_size=32,\n",
    "        gamma=0.99,\n",
    "        start_epsilon=0.9,\n",
    "        end_epsilon=0.05,\n",
    "        epsilon_decay=1000,\n",
    "        tau=0.005,\n",
    "        lr=1e-4,\n",
    "        memory_capacity: int = 10000,\n",
    "        enable_cuda: bool = True,\n",
    "        hidden_size=128,\n",
    "        hidden_layers=2,\n",
    "        cuda_device_id=0,\n",
    "    ):\n",
    "        super().__init__(\"DeepQLearningAgent\")\n",
    "        if file_name is not None:\n",
    "            self.load(file_name)\n",
    "        else:\n",
    "            self.state_space_dim = state_space_dim\n",
    "            self.action_space_size = action_space_size\n",
    "            self.time = datetime.datetime.now().strftime(\"%Y-%m-%d_%H-%M-%S\")\n",
    "            self.batch_size = batch_size\n",
    "            self.hidden_size = hidden_size\n",
    "            self.gamma = gamma\n",
    "            self.start_epsilon = start_epsilon\n",
    "            self.end_epsilon = end_epsilon\n",
    "            self.epsilon_decay = epsilon_decay\n",
    "            self.tau = tau\n",
    "            self.lr = lr\n",
    "            self.epsilon = start_epsilon\n",
    "            self.hidden_layers = hidden_layers\n",
    "            self.policy_net = QNetwork(\n",
    "                state_space_dim,\n",
    "                action_space_size,\n",
    "                hidden_size=hidden_size,\n",
    "                hidden_layers=hidden_layers,\n",
    "            )\n",
    "            self.target_net = QNetwork(\n",
    "                state_space_dim,\n",
    "                action_space_size,\n",
    "                hidden_size=hidden_size,\n",
    "                hidden_layers=hidden_layers,\n",
    "            )\n",
    "            self.step_done = 0\n",
    "        if enable_cuda:\n",
    "            self.device = (\n",
    "                f\"cuda:{cuda_device_id}\"\n",
    "                if torch.cuda.is_available()\n",
    "                else \"mps\" if torch.backends.mps.is_available() else \"cpu\"\n",
    "            )\n",
    "        else:\n",
    "            self.device = \"cpu\"\n",
    "        gymlogger.info(f\"Using {self.device} device\")\n",
    "        self.policy_net.to(self.device)\n",
    "        self.target_net.to(self.device)\n",
    "\n",
    "        self.target_net.load_state_dict(self.policy_net.state_dict())\n",
    "\n",
    "        self.optimizer = torch.optim.AdamW(\n",
    "            self.policy_net.parameters(), lr=self.lr, amsgrad=True\n",
    "        )\n",
    "        self.memory = ReplayMemory(memory_capacity)\n",
    "\n",
    "    def get_action_vec(self, observation: torch.Tensor) -> torch.Tensor:\n",
    "        with torch.no_grad():\n",
    "            return self.policy_net(observation).max(1).indices.view(1, 1)\n",
    "\n",
    "    def _get_action(self, observation: Observation) -> int:\n",
    "        return self.get_action_vec(observation.get_vector().to(self.device)).item()\n",
    "\n",
    "    def optimize_model(self):\n",
    "        if len(self.memory) < self.batch_size:\n",
    "            return\n",
    "\n",
    "        transitions = self.memory.sample(self.batch_size)\n",
    "\n",
    "        batch = Transition(*zip(*transitions))\n",
    "\n",
    "        non_final_mask = torch.tensor(\n",
    "            tuple(map(lambda s: s is not None, batch.next_state)),\n",
    "            device=self.device,\n",
    "            dtype=torch.bool,\n",
    "        )\n",
    "\n",
    "        non_final_next_states = torch.cat(\n",
    "            [s for s in batch.next_state if s is not None]\n",
    "        )\n",
    "\n",
    "        state_batch = torch.cat(batch.state)\n",
    "        action_batch = torch.cat(batch.action)\n",
    "        reward_batch = torch.cat(batch.reward)\n",
    "\n",
    "        state_action_values = self.policy_net(state_batch).gather(1, action_batch)\n",
    "\n",
    "        next_state_values = torch.zeros(self.batch_size, device=self.device)\n",
    "        with torch.no_grad():\n",
    "            next_state_values[non_final_mask] = (\n",
    "                self.target_net(non_final_next_states).max(1).values\n",
    "            )\n",
    "        expected_state_action_values = (next_state_values * self.gamma) + reward_batch\n",
    "\n",
    "        criterion = torch.nn.SmoothL1Loss()\n",
    "        loss = criterion(state_action_values, expected_state_action_values.unsqueeze(1))\n",
    "\n",
    "        self.optimizer.zero_grad()\n",
    "        loss.backward()\n",
    "        torch.nn.utils.clip_grad_value_(self.policy_net.parameters(), 100)\n",
    "        self.optimizer.step()\n",
    "\n",
    "    def train_episode(self, env: gym.Env) -> int:\n",
    "        state, info = env.reset()\n",
    "        state = (\n",
    "            torch.tensor(state, dtype=torch.float32, device=self.device)\n",
    "            .unsqueeze(0)\n",
    "            .to(self.device)\n",
    "        )\n",
    "        sum_reward = 0\n",
    "        for t in itertools.count():\n",
    "            self.epsilon = self.end_epsilon + (\n",
    "                self.start_epsilon - self.end_epsilon\n",
    "            ) * math.exp(-1 * self.step_done / self.epsilon_decay)\n",
    "            self.step_done += 1\n",
    "            # print(self.epsilon)\n",
    "            if random.random() < self.epsilon:\n",
    "                action = torch.tensor(\n",
    "                    [[env.action_space.sample()]],\n",
    "                    device=self.device,\n",
    "                    dtype=torch.long,\n",
    "                )\n",
    "            else:\n",
    "                action = self.get_action_vec(state)\n",
    "            observation, reward, terminated, truncated, _ = env.step(action.item())\n",
    "            sum_reward += reward\n",
    "            reward = torch.tensor([reward], device=self.device)\n",
    "            done = terminated or truncated\n",
    "\n",
    "            if terminated:\n",
    "                next_state = None\n",
    "            else:\n",
    "                next_state = torch.tensor(\n",
    "                    observation, dtype=torch.float32, device=self.device\n",
    "                ).unsqueeze(0)\n",
    "\n",
    "            # Store the transition in memory\n",
    "            self.memory.push(state, action, next_state, reward)\n",
    "\n",
    "            # Move to the next state\n",
    "            state = next_state\n",
    "\n",
    "            # Perform one step of the optimization (on the policy network)\n",
    "            self.optimize_model()\n",
    "\n",
    "            # Soft update of the target network's weights\n",
    "            # θ′ ← τ θ + (1 −τ )θ′\n",
    "            target_net_state_dict = self.target_net.state_dict()\n",
    "            policy_net_state_dict = self.policy_net.state_dict()\n",
    "            for key in policy_net_state_dict:\n",
    "                target_net_state_dict[key] = policy_net_state_dict[\n",
    "                    key\n",
    "                ] * self.tau + target_net_state_dict[key] * (1 - self.tau)\n",
    "            self.target_net.load_state_dict(target_net_state_dict)\n",
    "\n",
    "            if done:\n",
    "                break\n",
    "\n",
    "        return sum_reward\n",
    "\n",
    "    def save(self, folder, name: Optional[str]=None, **kwargs):\n",
    "        \"\"\"Save the model parameters, configuration, and additional information to a single file.\"\"\"\n",
    "        # Combine model parameters for both policy_net and target_net with configuration\n",
    "        os.makedirs(folder, exist_ok=True)\n",
    "        if name is None:\n",
    "            file_name = f\"{self.name}_{self.time}.pth\"\n",
    "        elif name.endswith(\".pth\"):\n",
    "            file_name = name\n",
    "        else:\n",
    "            file_name = f\"{name}_{self.time}.pth\"\n",
    "        file_path = os.path.join(folder, file_name)\n",
    "        file_path = os.path.abspath(file_path)\n",
    "        data_to_save = {\n",
    "            \"policy_net_state_dict\": self.policy_net.state_dict(),\n",
    "            \"target_net_state_dict\": self.target_net.state_dict(),\n",
    "            \"config\": {\n",
    "                \"state_space_dim\": self.state_space_dim,\n",
    "                \"action_space_size\": self.action_space_size,\n",
    "                \"hidden_size\": self.hidden_size,\n",
    "                \"hidden_layers\": self.hidden_layers,\n",
    "                \"tau\": self.tau,\n",
    "                \"epsilon_decay\": self.epsilon_decay,\n",
    "                \"start_epsilon\": self.start_epsilon,\n",
    "                \"end_epsilon\": self.end_epsilon,\n",
    "                \"lr\": self.lr,\n",
    "            },\n",
    "        }\n",
    "        # Include any additional keyword arguments\n",
    "        data_to_save[\"config\"].update(kwargs)\n",
    "\n",
    "        # Save to a single file\n",
    "        torch.save(data_to_save, file_path)\n",
    "\n",
    "        gymlogger.info(f\"Saved {self.name} to {file_path}\")\n",
    "\n",
    "        return file_path\n",
    "\n",
    "    def load(self, file_path):\n",
    "        \"\"\"Load the model parameters, configuration, and additional information from a single file.\"\"\"\n",
    "        # Load data from file\n",
    "        loaded_data = torch.load(file_path)\n",
    "\n",
    "        # Restore configuration\n",
    "        config = loaded_data[\"config\"]\n",
    "        self.tau = config[\"tau\"]\n",
    "        self.epsilon_decay = config[\"epsilon_decay\"]\n",
    "        self.start_epsilon = config[\"start_epsilon\"]\n",
    "        self.end_epsilon = config[\"end_epsilon\"]\n",
    "        self.state_space_dim = config[\"state_space_dim\"]\n",
    "        self.action_space_size = config[\"action_space_size\"]\n",
    "        self.hidden_size = config[\"hidden_size\"]\n",
    "        self.hidden_layers = config[\"hidden_layers\"]\n",
    "        self.lr = config[\"lr\"]\n",
    "\n",
    "        self.policy_net = QNetwork(\n",
    "            self.state_space_dim,\n",
    "            self.action_space_size,\n",
    "            hidden_size=self.hidden_size,\n",
    "            hidden_layers=self.hidden_layers,\n",
    "        )\n",
    "\n",
    "        self.target_net = QNetwork(\n",
    "            self.state_space_dim,\n",
    "            self.action_space_size,\n",
    "            hidden_size=self.hidden_size,\n",
    "            hidden_layers=self.hidden_layers,\n",
    "        )\n",
    "\n",
    "        # Restore model parameters for both policy_net and target_net\n",
    "        self.policy_net.load_state_dict(loaded_data[\"policy_net_state_dict\"])\n",
    "        self.target_net.load_state_dict(loaded_data[\"target_net_state_dict\"])\n",
    "\n",
    "        gymlogger.info(f\"Loaded {self.name} from {file_path}\")"
   ]
  },
  {
   "cell_type": "markdown",
   "metadata": {},
   "source": [
    "Now, we train the Deep Q-Learning agent for 100 episodes, sample a random state, and output the chosen action."
   ]
  },
  {
   "cell_type": "code",
   "execution_count": 18,
   "metadata": {},
   "outputs": [
    {
     "name": "stderr",
     "output_type": "stream",
     "text": [
      "INFO: Using cuda:0 device\n",
      "Training DeepQLearningAgent:   2%|▏         | 2/100 [00:00<00:07, 12.90episode/s]"
     ]
    },
    {
     "name": "stderr",
     "output_type": "stream",
     "text": [
      "Training DeepQLearningAgent: 100%|██████████| 100/100 [00:05<00:00, 16.95episode/s]"
     ]
    },
    {
     "name": "stdout",
     "output_type": "stream",
     "text": [
      "Observation: (array([ 0.02943195,  0.01482972, -0.03882468, -0.04530096], dtype=float32), {})\n",
      "Chosen action: 1\n"
     ]
    },
    {
     "name": "stderr",
     "output_type": "stream",
     "text": [
      "\n"
     ]
    }
   ],
   "source": [
    "env.reset()\n",
    "deep_q_learning_agent = DeepQLearningAgent(\n",
    "    state_space_dim=4, action_space_size=2, batch_size=60\n",
    ")\n",
    "deep_q_learning_agent.train(env, num_episodes=100, plot=False)\n",
    "observation = env.reset()\n",
    "action = deep_q_learning_agent(observation)\n",
    "print(\"Observation:\", observation)\n",
    "print(\"Chosen action:\", action)"
   ]
  },
  {
   "cell_type": "code",
   "execution_count": 19,
   "metadata": {},
   "outputs": [],
   "source": [
    "def model_factory(model_name: str, **kwargs) -> TrainableAgent:\n",
    "    if model_name == \"RandomAgent\":\n",
    "        return RandomAgent()\n",
    "    elif model_name == \"QLearningAgent\":\n",
    "        return QLearningAgent(**kwargs)\n",
    "    elif model_name == \"DeepQLearningAgent\":\n",
    "        return DeepQLearningAgent(**kwargs)\n",
    "    else:\n",
    "        raise ValueError(f\"Unknown model name: {model_name}\")"
   ]
  },
  {
   "cell_type": "markdown",
   "metadata": {},
   "source": [
    "### Eval Script"
   ]
  },
  {
   "cell_type": "code",
   "execution_count": 14,
   "metadata": {},
   "outputs": [],
   "source": [
    "from tqdm import tqdm\n",
    "from concurrent.futures import ThreadPoolExecutor\n",
    "\n",
    "\n",
    "def play_episode(agent: Agent, env: gym.Env) -> float:\n",
    "    observation = env.reset()\n",
    "    done = False\n",
    "    truncated = False\n",
    "    reward = 0\n",
    "    while not done and not truncated and reward < 500:\n",
    "        action = agent(observation)\n",
    "        next_observation, r, done, truncated, info = env.step(action)\n",
    "        reward += r\n",
    "        observation = next_observation\n",
    "    reward = min(reward, 500)\n",
    "    return reward\n",
    "\n",
    "\n",
    "def play(agent: Agent, num_episodes: int = 1000, num_threads: int = 1):\n",
    "    all_rewards = []\n",
    "\n",
    "    progress_bar = tqdm(total=num_episodes, desc=\"Playing\", unit=\"episode\")\n",
    "\n",
    "    def play_multiple_episodes(episodes: int, rank: int):\n",
    "        env = gym.make(\"CartPole-v1\")\n",
    "        rewards = []\n",
    "        for i in range(episodes):\n",
    "            progress_bar.update(1)\n",
    "            rewards.append(play_episode(agent, env))\n",
    "        return rewards\n",
    "\n",
    "    with ThreadPoolExecutor(max_workers=num_threads) as executor:\n",
    "        threads_loads = [num_episodes // num_threads] * num_threads\n",
    "        threads_loads[-1] += num_episodes % num_threads\n",
    "        all_rewards = sum(\n",
    "            executor.map(play_multiple_episodes, threads_loads, range(num_threads)), []\n",
    "        )\n",
    "\n",
    "    progress_bar.close()\n",
    "\n",
    "    return np.array(all_rewards)\n",
    "\n",
    "\n",
    "def eval(agent: Agent, num_episodes: int, threads: int) -> float:\n",
    "    rewards = play(agent, num_episodes=num_episodes, num_threads=threads)\n",
    "    return np.mean(rewards), np.std(rewards)"
   ]
  },
  {
   "cell_type": "markdown",
   "metadata": {
    "id": "-XtIQ0Rti1gm"
   },
   "source": [
    "## Task 2: Demonstrate the effectiveness of the RL agent"
   ]
  },
  {
   "cell_type": "markdown",
   "metadata": {
    "id": "djBEShf0kGI4"
   },
   "source": [
    "For this task, use the agent developed in Task 1 to play the game for 100 episodes (refer to tutorial for how to play a round), record the cumulative reward for each round, and plot the reward for each round. A sample plotting code is given below. Note that you must include code to play for 100 episodes and use the code to obtain round_results for plotting. DO NOT record the round results in advance and paste the results to the notebook."
   ]
  },
  {
   "cell_type": "markdown",
   "metadata": {},
   "source": [
    "### Find the Best Agent for Q Learning"
   ]
  },
  {
   "cell_type": "markdown",
   "metadata": {},
   "source": [
    "The first method is to directly train a model."
   ]
  },
  {
   "cell_type": "code",
   "execution_count": 74,
   "metadata": {},
   "outputs": [
    {
     "name": "stderr",
     "output_type": "stream",
     "text": [
      "Training QLearningAgent: 100%|██████████| 5000/5000 [00:24<00:00, 205.71episode/s]\n"
     ]
    },
    {
     "data": {
      "image/png": "[encoded data removed]",
      "text/plain": [
       "<Figure size 640x480 with 1 Axes>"
      ]
     },
     "metadata": {},
     "output_type": "display_data"
    }
   ],
   "source": [
    "q_learning_agent = QLearningAgent(alpha=0.1, gamma=0.999, epsilon=0.3)\n",
    "q_learning_agent.train(env, 5000, plot=True)"
   ]
  },
  {
   "cell_type": "code",
   "execution_count": 75,
   "metadata": {},
   "outputs": [
    {
     "name": "stderr",
     "output_type": "stream",
     "text": [
      "INFO: Saved QLearningAgent to /data/pufanyi/project/SC3000-Balancing-Pole-on-Cart/src/models/QL_base_2024-04-04_16-28-20.pkl\n"
     ]
    },
    {
     "data": {
      "text/plain": [
       "'/data/pufanyi/project/SC3000-Balancing-Pole-on-Cart/src/models/QL_base_2024-04-04_16-28-20.pkl'"
      ]
     },
     "execution_count": 75,
     "metadata": {},
     "output_type": "execute_result"
    }
   ],
   "source": [
    "q_learning_agent.save(\"models\", \"QL_base\")"
   ]
  },
  {
   "cell_type": "code",
   "execution_count": 76,
   "metadata": {},
   "outputs": [
    {
     "name": "stderr",
     "output_type": "stream",
     "text": [
      "Playing:   0%|          | 0/1000 [00:00<?, ?episode/s]/data/fypu/anaconda3/envs/SC3000/lib/python3.9/site-packages/gym/utils/passive_env_checker.py:233: DeprecationWarning: `np.bool8` is a deprecated alias for `np.bool_`.  (Deprecated NumPy 1.24)\n",
      "  if not isinstance(terminated, (bool, np.bool8)):\n",
      "Playing: 100%|██████████| 1000/1000 [00:34<00:00, 29.36episode/s]\n"
     ]
    },
    {
     "data": {
      "text/plain": [
       "(342.034, 124.49127215993899)"
      ]
     },
     "execution_count": 76,
     "metadata": {},
     "output_type": "execute_result"
    }
   ],
   "source": [
    "eval(q_learning_agent, 1000, 30)"
   ]
  },
  {
   "cell_type": "markdown",
   "metadata": {},
   "source": [
    "We found that the model has nearly converged at this parameter setting. We need smaller $\\alpha$ and $\\epsilon$ values to fine-tune it."
   ]
  },
  {
   "cell_type": "markdown",
   "metadata": {},
   "source": [
    "Then we finetune this model"
   ]
  },
  {
   "cell_type": "markdown",
   "metadata": {},
   "source": [
    "We rerun the code above some times to get the best base model to finetune."
   ]
  },
  {
   "cell_type": "code",
   "execution_count": 96,
   "metadata": {},
   "outputs": [
    {
     "name": "stderr",
     "output_type": "stream",
     "text": [
      "INFO: Loaded QLearningAgent from models/QL_base_2024-04-04_15-53-23.pkl\n"
     ]
    }
   ],
   "source": [
    "q_learning_agent_finetuned = QLearningAgent(\n",
    "    file_path=\"models/QL_base_2024-04-04_15-53-23.pkl\"\n",
    ")"
   ]
  },
  {
   "cell_type": "code",
   "execution_count": 97,
   "metadata": {},
   "outputs": [
    {
     "name": "stderr",
     "output_type": "stream",
     "text": [
      "Training QLearningAgent: 100%|██████████| 3000/3000 [00:42<00:00, 70.04episode/s] \n"
     ]
    },
    {
     "data": {
      "image/png": "[encoded data removed]",
      "text/plain": [
       "<Figure size 640x480 with 1 Axes>"
      ]
     },
     "metadata": {},
     "output_type": "display_data"
    }
   ],
   "source": [
    "q_learning_agent_finetuned.alpha = 0.01\n",
    "q_learning_agent_finetuned.epsilon = 0.01\n",
    "q_learning_agent_finetuned.train(env, 3000, plot=True)"
   ]
  },
  {
   "cell_type": "code",
   "execution_count": 98,
   "metadata": {},
   "outputs": [
    {
     "name": "stderr",
     "output_type": "stream",
     "text": [
      "Playing:   0%|          | 0/1000 [00:00<?, ?episode/s]/data/fypu/anaconda3/envs/SC3000/lib/python3.9/site-packages/gym/utils/passive_env_checker.py:233: DeprecationWarning: `np.bool8` is a deprecated alias for `np.bool_`.  (Deprecated NumPy 1.24)\n",
      "  if not isinstance(terminated, (bool, np.bool8)):\n",
      "Playing: 100%|██████████| 1000/1000 [00:37<00:00, 26.94episode/s]\n"
     ]
    },
    {
     "data": {
      "text/plain": [
       "(382.666, 105.08295981746994)"
      ]
     },
     "execution_count": 98,
     "metadata": {},
     "output_type": "execute_result"
    }
   ],
   "source": [
    "eval(q_learning_agent_finetuned, 1000, 60)"
   ]
  },
  {
   "cell_type": "code",
   "execution_count": 66,
   "metadata": {},
   "outputs": [
    {
     "name": "stderr",
     "output_type": "stream",
     "text": [
      "INFO: Saved QLearningAgent to /data/pufanyi/project/SC3000-Balancing-Pole-on-Cart/src/models/QL_FT_2024-04-04_16-19-03.pkl\n"
     ]
    },
    {
     "data": {
      "text/plain": [
       "'/data/pufanyi/project/SC3000-Balancing-Pole-on-Cart/src/models/QL_FT_2024-04-04_16-19-03.pkl'"
      ]
     },
     "execution_count": 66,
     "metadata": {},
     "output_type": "execute_result"
    }
   ],
   "source": [
    "q_learning_agent_finetuned.save(\"models\", \"QL_FT\")"
   ]
  },
  {
   "cell_type": "markdown",
   "metadata": {},
   "source": [
    "## Cumulative rewards for Q-Learning agent"
   ]
  },
  {
   "cell_type": "code",
   "execution_count": 101,
   "metadata": {},
   "outputs": [
    {
     "name": "stderr",
     "output_type": "stream",
     "text": [
      "Playing:   0%|          | 0/1000 [00:00<?, ?episode/s]/data/fypu/anaconda3/envs/SC3000/lib/python3.9/site-packages/gym/utils/passive_env_checker.py:233: DeprecationWarning: `np.bool8` is a deprecated alias for `np.bool_`.  (Deprecated NumPy 1.24)\n",
      "  if not isinstance(terminated, (bool, np.bool8)):\n",
      "Playing:  34%|███▍      | 338/1000 [00:11<31:29,  2.85s/episode]Playing: 100%|██████████| 1000/1000 [00:44<00:00, 22.57episode/s]\n"
     ]
    },
    {
     "data": {
      "text/plain": [
       "(481.189, 59.393427910838746)"
      ]
     },
     "execution_count": 101,
     "metadata": {},
     "output_type": "execute_result"
    }
   ],
   "source": [
    "eval(q_learning_agent, 1000, 60)"
   ]
  },
  {
   "cell_type": "code",
   "execution_count": 99,
   "metadata": {},
   "outputs": [
    {
     "name": "stderr",
     "output_type": "stream",
     "text": [
      "INFO: Loaded QLearningAgent from models/QL_FT_2024-04-04_16-19-03.pkl\n",
      "Playing:   0%|          | 0/100 [00:00<?, ?episode/s]/data/fypu/anaconda3/envs/SC3000/lib/python3.9/site-packages/gym/utils/passive_env_checker.py:233: DeprecationWarning: `np.bool8` is a deprecated alias for `np.bool_`.  (Deprecated NumPy 1.24)\n",
      "  if not isinstance(terminated, (bool, np.bool8)):\n",
      "Playing: 100%|██████████| 100/100 [00:03<00:00, 25.31episode/s]\n"
     ]
    },
    {
     "data": {
      "image/png": "[encoded data removed]",
      "text/plain": [
       "<Figure size 640x480 with 1 Axes>"
      ]
     },
     "metadata": {},
     "output_type": "display_data"
    }
   ],
   "source": [
    "q_learning_agent = QLearningAgent(file_path=\"models/QL_FT_2024-04-04_16-19-03.pkl\")\n",
    "episode_results = play(q_learning_agent, num_episodes=100, num_threads=30)\n",
    "plt.plot(episode_results)\n",
    "plt.title(\"Cumulative reward for each episode\")\n",
    "plt.ylabel(\"Cumulative reward\")\n",
    "plt.xlabel(\"episode\")\n",
    "plt.show()"
   ]
  },
  {
   "cell_type": "code",
   "execution_count": null,
   "metadata": {},
   "outputs": [],
   "source": [
    "\n",
    "print(\"Average cumulative reward:\", episode_results.mean())\n",
    "print(\"Is my agent good enough?\", episode_results.mean() > 195)"
   ]
  },
  {
   "cell_type": "markdown",
   "metadata": {},
   "source": [
    "### Find the Best Agent for Deep Q Learning"
   ]
  },
  {
   "cell_type": "markdown",
   "metadata": {},
   "source": [
    "We firstly train 10 agents to get the rough parameters for the best agent."
   ]
  },
  {
   "cell_type": "code",
   "execution_count": 25,
   "metadata": {},
   "outputs": [
    {
     "name": "stderr",
     "output_type": "stream",
     "text": [
      "INFO: Using cuda:0 device\n",
      "Training DeepQLearningAgent:   9%|▉         | 27/300 [00:01<00:11, 23.21episode/s]"
     ]
    },
    {
     "name": "stderr",
     "output_type": "stream",
     "text": [
      "Training DeepQLearningAgent: 100%|██████████| 300/300 [06:23<00:00,  1.28s/episode]\n"
     ]
    },
    {
     "data": {
      "image/png": "[encoded data removed]",
      "text/plain": [
       "<Figure size 640x480 with 1 Axes>"
      ]
     },
     "metadata": {},
     "output_type": "display_data"
    },
    {
     "name": "stdout",
     "output_type": "stream",
     "text": [
      "Action: 1\n"
     ]
    }
   ],
   "source": [
    "env.reset()\n",
    "deep_q_learning_agent = DeepQLearningAgent(\n",
    "    state_space_dim=4,\n",
    "    action_space_size=2,\n",
    "    enable_cuda=True,\n",
    "    hidden_size=128,\n",
    "    hidden_layers=5,\n",
    "    batch_size=128,\n",
    ")\n",
    "deep_q_learning_agent.train(env, num_episodes=300, plot=True, plot_smooth=10)\n",
    "observation = env.reset()\n",
    "print(\"Action:\", deep_q_learning_agent(observation))"
   ]
  },
  {
   "cell_type": "code",
   "execution_count": 21,
   "metadata": {},
   "outputs": [
    {
     "name": "stderr",
     "output_type": "stream",
     "text": [
      "INFO: Saved DeepQLearningAgent to /data/pufanyi/project/SC3000-Balancing-Pole-on-Cart/src/models/DQL_base_2024-04-05_16-01-42.pth\n"
     ]
    },
    {
     "data": {
      "text/plain": [
       "'/data/pufanyi/project/SC3000-Balancing-Pole-on-Cart/src/models/DQL_base_2024-04-05_16-01-42.pth'"
      ]
     },
     "execution_count": 21,
     "metadata": {},
     "output_type": "execute_result"
    }
   ],
   "source": [
    "deep_q_learning_agent.save(\"models\", \"DQL_base\")"
   ]
  },
  {
   "cell_type": "markdown",
   "metadata": {},
   "source": [
    "### Cumulative rewards for Deep Q-Learning agent"
   ]
  },
  {
   "cell_type": "code",
   "execution_count": 26,
   "metadata": {},
   "outputs": [
    {
     "name": "stderr",
     "output_type": "stream",
     "text": [
      "Playing:   0%|          | 0/100 [00:00<?, ?episode/s]/data/fypu/anaconda3/envs/SC3000/lib/python3.9/site-packages/gym/utils/passive_env_checker.py:233: DeprecationWarning: `np.bool8` is a deprecated alias for `np.bool_`.  (Deprecated NumPy 1.24)\n",
      "  if not isinstance(terminated, (bool, np.bool8)):\n"
     ]
    },
    {
     "name": "stderr",
     "output_type": "stream",
     "text": [
      "Playing: 100%|██████████| 100/100 [01:02<00:00,  1.59episode/s]\n"
     ]
    },
    {
     "data": {
      "image/png": "[encoded data removed]",
      "text/plain": [
       "<Figure size 640x480 with 1 Axes>"
      ]
     },
     "metadata": {},
     "output_type": "display_data"
    }
   ],
   "source": [
    "episode_results = play(deep_q_learning_agent, num_episodes=100, num_threads=30)\n",
    "plt.plot(episode_results)\n",
    "plt.title(\"Cumulative reward for each episode\")\n",
    "plt.ylabel(\"Cumulative reward\")\n",
    "plt.xlabel(\"episode\")\n",
    "plt.show()"
   ]
  },
  {
   "cell_type": "markdown",
   "metadata": {
    "id": "XndSYH7wlvn7"
   },
   "source": [
    "Print the average reward over the 100 episodes."
   ]
  },
  {
   "cell_type": "code",
   "execution_count": 30,
   "metadata": {
    "colab": {
     "base_uri": "https://localhost:8080/"
    },
    "id": "pOiOp9OYlo5Y",
    "outputId": "7a02ba7b-ff17-41f2-aa7f-eb50d49a83fd"
   },
   "outputs": [
    {
     "name": "stdout",
     "output_type": "stream",
     "text": [
      "Average cumulative reward: 500.0\n",
      "Is my agent good enough? True\n"
     ]
    }
   ],
   "source": [
    "print(\"Average cumulative reward:\", episode_results.mean())\n",
    "print(\"Is my agent good enough?\", episode_results.mean() > 195)"
   ]
  },
  {
   "cell_type": "markdown",
   "metadata": {
    "id": "Yg0DCT38lFA6"
   },
   "source": [
    "## Task 3: Render one episode played by the agent"
   ]
  },
  {
   "cell_type": "code",
   "execution_count": 100,
   "metadata": {},
   "outputs": [],
   "source": [
    "import os\n",
    "import imageio\n",
    "import datetime\n",
    "from PIL import Image\n",
    "from IPython.display import Video\n",
    "\n",
    "\n",
    "def get_video_path(\n",
    "    agent: Agent, *, video_name: str = \"default\", video_folder: str = \"video\"\n",
    ") -> str:\n",
    "    os.makedirs(video_folder, exist_ok=True)\n",
    "    if video_name == \"default\":\n",
    "        video_name = f\"{agent.name}_{datetime.datetime.now().strftime('%Y%m%d%H%M%S')}\"\n",
    "    if not video_name.endswith(\".mp4\"):\n",
    "        video_name += \".mp4\"\n",
    "    return os.path.join(video_folder, video_name)\n",
    "\n",
    "\n",
    "def render(\n",
    "    agent: Agent,\n",
    "    video_name: str = \"default\",\n",
    "    fps: int = 20,\n",
    "    width: int = 600,\n",
    "    height: int = 400,\n",
    "    video_folder: str = \"video\",\n",
    "):\n",
    "    env = gym.make(\"CartPole-v1\", render_mode=\"rgb_array\")\n",
    "\n",
    "    frames = []\n",
    "    observation = env.reset()\n",
    "    while True:\n",
    "        frames.append(Image.fromarray(env.render()).resize((width, height)))\n",
    "        action = agent(observation)\n",
    "        observation, reward, terminated, truncated, info = env.step(action)\n",
    "        if terminated or truncated:\n",
    "            break\n",
    "\n",
    "    env.close()\n",
    "\n",
    "    video_path = get_video_path(agent, video_name=video_name, video_folder=video_folder)\n",
    "    imageio.mimsave(video_path, frames, fps=fps)\n",
    "\n",
    "    return Video(video_path)"
   ]
  },
  {
   "cell_type": "code",
   "execution_count": 101,
   "metadata": {},
   "outputs": [
    {
     "name": "stderr",
     "output_type": "stream",
     "text": [
      "/data/fypu/anaconda3/envs/SC3000/lib/python3.9/site-packages/gym/utils/passive_env_checker.py:233: DeprecationWarning: `np.bool8` is a deprecated alias for `np.bool_`.  (Deprecated NumPy 1.24)\n",
      "  if not isinstance(terminated, (bool, np.bool8)):\n",
      "IMAGEIO FFMPEG_WRITER WARNING: input image is not divisible by macro_block_size=16, resizing from (600, 400) to (608, 400) to ensure video compatibility with most codecs and players. To prevent resizing, make your input image divisible by the macro_block_size or set the macro_block_size to 1 (risking incompatibility).\n",
      "[swscaler @ 0x70e5c40] Warning: data is not aligned! This can lead to a speed loss\n"
     ]
    },
    {
     "data": {
      "text/html": [
       "<video src=\"video/QLearningAgent_20240330154710.mp4\" controls  >\n",
       "      Your browser does not support the <code>video</code> element.\n",
       "    </video>"
      ],
      "text/plain": [
       "<IPython.core.display.Video object>"
      ]
     },
     "execution_count": 101,
     "metadata": {},
     "output_type": "execute_result"
    }
   ],
   "source": [
    "q_learning_agent = QLearningAgent(file_path=\"models/q_learning_agent_finetuned\")\n",
    "render(q_learning_agent)"
   ]
  },
  {
   "cell_type": "code",
   "execution_count": 146,
   "metadata": {},
   "outputs": [
    {
     "name": "stderr",
     "output_type": "stream",
     "text": [
      "/data/fypu/anaconda3/envs/SC3000/lib/python3.9/site-packages/gym/utils/passive_env_checker.py:233: DeprecationWarning: `np.bool8` is a deprecated alias for `np.bool_`.  (Deprecated NumPy 1.24)\n",
      "  if not isinstance(terminated, (bool, np.bool8)):\n",
      "IMAGEIO FFMPEG_WRITER WARNING: input image is not divisible by macro_block_size=16, resizing from (600, 400) to (608, 400) to ensure video compatibility with most codecs and players. To prevent resizing, make your input image divisible by the macro_block_size or set the macro_block_size to 1 (risking incompatibility).\n",
      "[swscaler @ 0x673dc40] Warning: data is not aligned! This can lead to a speed loss\n"
     ]
    },
    {
     "data": {
      "text/html": [
       "<video src=\"video/DeepQLearning_20240330171349.mp4\" controls  >\n",
       "      Your browser does not support the <code>video</code> element.\n",
       "    </video>"
      ],
      "text/plain": [
       "<IPython.core.display.Video object>"
      ]
     },
     "execution_count": 146,
     "metadata": {},
     "output_type": "execute_result"
    }
   ],
   "source": [
    "render(deep_q_learning_agent)"
   ]
  },
  {
   "cell_type": "markdown",
   "metadata": {},
   "source": [
    "# References\n",
    "\n",
    "1. Paszke, A., & Towers, M. (n.d.). Reinforcement Learning (DQN) Tutorial. PyTorch. https://pytorch.org/tutorials/intermediate/reinforcement_q_learning.html\n",
    "<br>\n",
    "2. Lillicrap, T. P., Hunt, J. J., Pritzel, A., Heess, N., Erez, T., Tassa, Y., Silver, D., & Wierstra, D. (2016). Continuous Control With Deep Reinforcement Learning. ICLR 2016. https://arxiv.org/pdf/1509.02971.pdf"
   ]
  }
 ],
 "metadata": {
  "colab": {
   "authorship_tag": "ABX9TyNczA+lJQOKjOo4XtzYjWQc",
   "include_colab_link": true,
   "provenance": []
  },
  "kernelspec": {
   "display_name": "Python 3 (ipykernel)",
   "language": "python",
   "name": "python3"
  },
  "language_info": {
   "codemirror_mode": {
    "name": "ipython",
    "version": 3
   },
   "file_extension": ".py",
   "mimetype": "text/x-python",
   "name": "python",
   "nbconvert_exporter": "python",
   "pygments_lexer": "ipython3",
   "version": "3.9.19"
  }
 },
 "nbformat": 4,
 "nbformat_minor": 1
}
