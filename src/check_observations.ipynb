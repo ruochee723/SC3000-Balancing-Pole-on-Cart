{
 "cells": [
  {
   "cell_type": "code",
   "execution_count": 1,
   "metadata": {},
   "outputs": [],
   "source": [
    "import gym\n",
    "import math\n",
    "import matplotlib.pyplot as plt"
   ]
  },
  {
   "cell_type": "code",
   "execution_count": 2,
   "metadata": {},
   "outputs": [
    {
     "name": "stderr",
     "output_type": "stream",
     "text": [
      "c:\\Users\\pufan\\.conda\\envs\\SC3000\\lib\\site-packages\\gym\\core.py:317: DeprecationWarning: \u001b[33mWARN: Initializing wrapper in old step API which returns one bool instead of two. It is recommended to set `new_step_api=True` to use new step API. This will be the default behaviour in future.\u001b[0m\n",
      "  deprecation(\n",
      "c:\\Users\\pufan\\.conda\\envs\\SC3000\\lib\\site-packages\\gym\\wrappers\\step_api_compatibility.py:39: DeprecationWarning: \u001b[33mWARN: Initializing environment in old step API which returns one bool instead of two. It is recommended to set `new_step_api=True` to use new step API. This will be the default behaviour in future.\u001b[0m\n",
      "  deprecation(\n",
      "c:\\Users\\pufan\\.conda\\envs\\SC3000\\lib\\site-packages\\gym\\utils\\passive_env_checker.py:241: DeprecationWarning: `np.bool8` is a deprecated alias for `np.bool_`.  (Deprecated NumPy 1.24)\n",
      "  if not isinstance(terminated, (bool, np.bool8)):\n"
     ]
    }
   ],
   "source": [
    "observations = []\n",
    "env = gym.make(\"CartPole-v1\")\n",
    "env.reset()\n",
    "done = False\n",
    "while not done:\n",
    "    observation, reward, done, info = env.step(0)\n",
    "    observations.append(observation)\n",
    "env.close()"
   ]
  },
  {
   "cell_type": "code",
   "execution_count": 3,
   "metadata": {},
   "outputs": [
    {
     "data": {
      "text/plain": [
       "[array([-0.00063759, -0.16367942, -0.00176525,  0.29616877], dtype=float32),\n",
       " array([-0.00391118, -0.35877615,  0.00415812,  0.58829445], dtype=float32),\n",
       " array([-0.0110867 , -0.5539561 ,  0.01592401,  0.8822843 ], dtype=float32),\n",
       " array([-0.02216582, -0.74929065,  0.0335697 ,  1.1799304 ], dtype=float32),\n",
       " array([-0.03715163, -0.94483197,  0.05716831,  1.4829448 ], dtype=float32),\n",
       " array([-0.05604827, -1.1406027 ,  0.0868272 ,  1.7929195 ], dtype=float32),\n",
       " array([-0.07886033, -1.3365839 ,  0.1226856 ,  2.1112788 ], dtype=float32),\n",
       " array([-0.105592  , -1.5327005 ,  0.16491117,  2.4392219 ], dtype=float32),\n",
       " array([-0.13624601, -1.7288053 ,  0.21369562,  2.7776527 ], dtype=float32)]"
      ]
     },
     "execution_count": 3,
     "metadata": {},
     "output_type": "execute_result"
    }
   ],
   "source": [
    "observations"
   ]
  },
  {
   "cell_type": "code",
   "execution_count": null,
   "metadata": {},
   "outputs": [],
   "source": [
    "x_s = [obs[0] for obs in observations]\n",
    "theta_s = [math.tan(obs[2]) for obs in observations]"
   ]
  },
  {
   "cell_type": "code",
   "execution_count": null,
   "metadata": {},
   "outputs": [],
   "source": [
    "plt.figure(figsize=(10, 5))\n",
    "plt.plot(x_s, theta_s, label=\"Theta over X\")\n",
    "plt.xlabel(\"X position\")\n",
    "plt.ylabel(\"Theta (tan of pole angle)\")\n",
    "plt.title(\"Theta as a function of X position\")\n",
    "plt.legend()\n",
    "plt.show()"
   ]
  }
 ],
 "metadata": {
  "kernelspec": {
   "display_name": "SC3000",
   "language": "python",
   "name": "python3"
  },
  "language_info": {
   "codemirror_mode": {
    "name": "ipython",
    "version": 3
   },
   "file_extension": ".py",
   "mimetype": "text/x-python",
   "name": "python",
   "nbconvert_exporter": "python",
   "pygments_lexer": "ipython3",
   "version": "3.9.18"
  }
 },
 "nbformat": 4,
 "nbformat_minor": 2
}
