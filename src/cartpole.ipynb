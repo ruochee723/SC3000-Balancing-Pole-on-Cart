{
 "cells": [
  {
   "cell_type": "markdown",
   "metadata": {
    "colab_type": "text",
    "id": "view-in-github"
   },
   "source": [
    "<a href=\"https://colab.research.google.com/github/ruochee723/SC3000-Balancing-Pole-on-Cart/blob/main/src/cartpole.ipynb\" target=\"_parent\"><img src=\"https://colab.research.google.com/assets/colab-badge.svg\" alt=\"Open In Colab\"/></a>"
   ]
  },
  {
   "cell_type": "markdown",
   "metadata": {
    "id": "ZauhjPSfX7pI"
   },
   "source": [
    "# Tutorial and Sample Code for Balancing a Pole on a Cart"
   ]
  },
  {
   "cell_type": "markdown",
   "metadata": {
    "id": "RwKbYeTgbaTA"
   },
   "source": [
    "## Importing dependencies and define helper functions"
   ]
  },
  {
   "cell_type": "code",
   "execution_count": 58,
   "metadata": {
    "id": "j6KpgCLGYWmj"
   },
   "outputs": [],
   "source": [
    "import gym\n",
    "from gym import logger as gymlogger\n",
    "from gym.wrappers import RecordVideo\n",
    "\n",
    "# gymlogger.set_level(40)  # error only\n",
    "import numpy as np\n",
    "import random\n",
    "import matplotlib\n",
    "import matplotlib.pyplot as plt\n",
    "\n",
    "import math\n",
    "import glob\n",
    "import io\n",
    "import base64\n",
    "import torch\n",
    "\n",
    "from typing import Tuple\n",
    "\n",
    "random.seed(42)"
   ]
  },
  {
   "cell_type": "markdown",
   "metadata": {
    "id": "2oIzK9SzhlWN"
   },
   "source": [
    "## Task 1: Development of an RL agent"
   ]
  },
  {
   "cell_type": "code",
   "execution_count": 59,
   "metadata": {},
   "outputs": [],
   "source": [
    "env = gym.make(\"CartPole-v1\")"
   ]
  },
  {
   "cell_type": "code",
   "execution_count": 60,
   "metadata": {},
   "outputs": [],
   "source": [
    "POSITION_RANGE = 4.8\n",
    "ANGLE_RANGE = 0.418\n",
    "\n",
    "NUM_BINS = {\n",
    "    \"position\": 30,\n",
    "    \"velocity\": 30,\n",
    "    \"pole_angle\": 30,\n",
    "    \"pole_velocity\": 30,\n",
    "}"
   ]
  },
  {
   "cell_type": "code",
   "execution_count": 61,
   "metadata": {},
   "outputs": [],
   "source": [
    "def discretize(x: float, min_val: float, max_val: float, num_bins: int) -> int:\n",
    "    if x > max_val:\n",
    "        return num_bins - 1\n",
    "    elif x < min_val:\n",
    "        return 0\n",
    "    else:\n",
    "        return round((x - min_val) / (max_val - min_val) * (num_bins - 1))"
   ]
  },
  {
   "cell_type": "code",
   "execution_count": 62,
   "metadata": {},
   "outputs": [],
   "source": [
    "from scipy.special import expit as sigmoid\n",
    "from typing import Dict\n",
    "\n",
    "\n",
    "def get_num_states():\n",
    "    num_states = 1\n",
    "    for num_bins in NUM_BINS.values():\n",
    "        num_states *= num_bins\n",
    "    return num_states\n",
    "\n",
    "\n",
    "NUM_STATES = get_num_states()\n",
    "\n",
    "\n",
    "class Observation(object):\n",
    "    def __init__(self, observation):\n",
    "        if isinstance(observation, tuple):\n",
    "            observation = observation[0]\n",
    "        self.observation = observation\n",
    "\n",
    "    def position(self):\n",
    "        return self.observation[0]\n",
    "\n",
    "    def velocity(self):\n",
    "        return self.observation[1]\n",
    "\n",
    "    def pole_angle(self):\n",
    "        return self.observation[2]\n",
    "\n",
    "    def pole_velocity(self):\n",
    "        return self.observation[3]\n",
    "\n",
    "    def get_hashed_state_dict(self) -> Dict[str, int]:\n",
    "        return {\n",
    "            \"position\": discretize(\n",
    "                self.position(), -POSITION_RANGE, POSITION_RANGE, NUM_BINS[\"position\"]\n",
    "            ),\n",
    "            \"velocity\": discretize(\n",
    "                sigmoid(self.velocity()),\n",
    "                -1,\n",
    "                1,\n",
    "                NUM_BINS[\"velocity\"],\n",
    "            ),\n",
    "            \"pole_angle\": discretize(\n",
    "                self.pole_angle(), -ANGLE_RANGE, ANGLE_RANGE, NUM_BINS[\"pole_angle\"]\n",
    "            ),\n",
    "            \"pole_velocity\": discretize(\n",
    "                sigmoid(self.pole_velocity()),\n",
    "                -1,\n",
    "                1,\n",
    "                NUM_BINS[\"pole_velocity\"],\n",
    "            ),\n",
    "        }\n",
    "\n",
    "    def get_hashed_state(self) -> int:\n",
    "        hashed_state_tuple = self.get_hashed_state_dict()\n",
    "        mul = 1\n",
    "        hashed_state = 0\n",
    "        for key, val in hashed_state_tuple.items():\n",
    "            hashed_state += val * mul\n",
    "            mul *= NUM_BINS[key]\n",
    "        assert 0 <= hashed_state < NUM_STATES\n",
    "        return hashed_state\n",
    "    \n",
    "    def get_vector(self) -> torch.Tensor:\n",
    "        return torch.tensor(self.observation, dtype=torch.float32).unsqueeze(0)\n",
    "\n",
    "\n",
    "def get_hashed_state(observation: np.ndarray) -> int:\n",
    "    return Observation(observation).get_hashed_state()"
   ]
  },
  {
   "cell_type": "markdown",
   "metadata": {},
   "source": [
    "### Abstract Class for RL Agent"
   ]
  },
  {
   "cell_type": "code",
   "execution_count": 63,
   "metadata": {},
   "outputs": [],
   "source": [
    "from abc import ABC, abstractmethod\n",
    "\n",
    "\n",
    "class Agent(ABC):\n",
    "    def __init__(self, name: str):\n",
    "        self.name = name\n",
    "\n",
    "    @abstractmethod\n",
    "    def _get_action(self, observation: Observation) -> int:\n",
    "        raise NotImplementedError\n",
    "\n",
    "    def get_action(self, observation: np.ndarray) -> int:\n",
    "        return self._get_action(Observation(observation))\n",
    "\n",
    "    def __call__(self, observation: np.ndarray) -> int:\n",
    "        return self.get_action(observation)"
   ]
  },
  {
   "cell_type": "markdown",
   "metadata": {},
   "source": [
    "### Random Agent"
   ]
  },
  {
   "cell_type": "code",
   "execution_count": 97,
   "metadata": {},
   "outputs": [],
   "source": [
    "class RandomAgent(Agent):\n",
    "    def __init__(self):\n",
    "        super().__init__(\"RandomAgent\")\n",
    "\n",
    "    def _get_action(self, observation: Observation) -> int:\n",
    "        return random.randint(0, 1)"
   ]
  },
  {
   "cell_type": "markdown",
   "metadata": {},
   "source": [
    "### Q Learning Agent"
   ]
  },
  {
   "cell_type": "code",
   "execution_count": 65,
   "metadata": {},
   "outputs": [],
   "source": [
    "import os\n",
    "import yaml\n",
    "from tqdm import trange\n",
    "\n",
    "\n",
    "class QLearningAgent(Agent):\n",
    "    def __init__(\n",
    "        self,\n",
    "        *,\n",
    "        state_space_size: int = NUM_STATES,\n",
    "        action_space_size: int = 2,\n",
    "        alpha: float = 0.1,\n",
    "        gamma: float = 0.99,\n",
    "        epsilon: float = 0.1,\n",
    "    ):\n",
    "        super().__init__(\"QLearningAgent\")\n",
    "        self.state_space_size = state_space_size\n",
    "        self.action_space_size = action_space_size\n",
    "        self.alpha = alpha\n",
    "        self.gamma = gamma\n",
    "        self.epsilon = epsilon\n",
    "        self.q_table = np.zeros((state_space_size, action_space_size))\n",
    "\n",
    "    def reset(self):\n",
    "        self.q_table = np.zeros((self.state_space_size, self.action_space_size))\n",
    "\n",
    "    def _get_action(self, observation: Observation) -> int:\n",
    "        return np.argmax(self.q_table[observation.get_hashed_state(), :])\n",
    "\n",
    "    def train_episode(self, env: gym.Env):\n",
    "        observation = env.reset()\n",
    "        state = get_hashed_state(observation)\n",
    "        done = False\n",
    "        truncated = False\n",
    "        sum_reward = 0\n",
    "        while not done and not truncated and sum_reward < 500:\n",
    "            if random.random() < self.epsilon:\n",
    "                action = random.randint(0, 1)\n",
    "            else:\n",
    "                action = self.get_action(observation)\n",
    "            next_observation, reward, done, truncated, info = env.step(action)\n",
    "            next_state = get_hashed_state(next_observation)\n",
    "            self.q_table[state, action] += self.alpha * (\n",
    "                reward\n",
    "                + self.gamma * np.max(self.q_table[next_state, :])\n",
    "                - self.q_table[state, action]\n",
    "            )\n",
    "            sum_reward += reward\n",
    "            state = next_state\n",
    "            observation = next_observation\n",
    "\n",
    "    def train(self, env: gym.Env = None, *, num_episodes: int = 1000) -> np.ndarray:\n",
    "        if env is None:\n",
    "            env = gym.make(\"CartPole-v1\")\n",
    "        episode_rewards = []\n",
    "        for episode in trange(\n",
    "            num_episodes, desc=\"Training Q-Learning Agent\", unit=\"episode\"\n",
    "        ):\n",
    "            episode_rewards.append(self.train_episode(env))\n",
    "\n",
    "    def save(\n",
    "        self,\n",
    "        path: str,\n",
    "        *,\n",
    "        q_file_name: str = \"q_table.npy\",\n",
    "        model_info_name: str = \"model_info.yaml\",\n",
    "    ):\n",
    "        os.makedirs(os.path.dirname(path), exist_ok=True)\n",
    "        np.save(os.path.join(path, q_file_name), self.q_table)\n",
    "        with open(os.path.join(path, model_info_name), \"w\") as f:\n",
    "            yaml.safe_dump(\n",
    "                {\n",
    "                    \"state_space_size\": self.state_space_size,\n",
    "                    \"action_space_size\": self.action_space_size,\n",
    "                    \"alpha\": self.alpha,\n",
    "                    \"gamma\": self.gamma,\n",
    "                    \"epsilon\": self.epsilon,\n",
    "                },\n",
    "                f,\n",
    "            )\n",
    "\n",
    "    def load(\n",
    "        self,\n",
    "        path: str,\n",
    "        *,\n",
    "        q_file_name: str = \"q_table.npy\",\n",
    "        model_info_name: str = \"model_info.yaml\",\n",
    "    ):\n",
    "        self.q_table = np.load(os.path.join(path, q_file_name))\n",
    "        with open(os.path.join(path, model_info_name), \"r\") as f:\n",
    "            model_info = yaml.safe_load(f)\n",
    "        self.state_space_size = model_info[\"state_space_size\"]\n",
    "        self.action_space_size = model_info[\"action_space_size\"]\n",
    "        self.alpha = model_info[\"alpha\"]\n",
    "        self.gamma = model_info[\"gamma\"]\n",
    "        self.epsilon = model_info[\"epsilon\"]"
   ]
  },
  {
   "cell_type": "code",
   "execution_count": 114,
   "metadata": {},
   "outputs": [],
   "source": [
    "import torch\n",
    "\n",
    "\n",
    "class QNetwork(torch.nn.Module):\n",
    "    def __init__(self, state_space_dim: int, action_space_size: int, cuda: bool = True):\n",
    "        super(QNetwork, self).__init__()\n",
    "        self.model = torch.nn.Sequential(\n",
    "            torch.nn.Linear(state_space_dim, 128),\n",
    "            torch.nn.ReLU(),\n",
    "            torch.nn.Linear(128, 128),\n",
    "            torch.nn.ReLU(),\n",
    "            # torch.nn.Linear(128, 128),\n",
    "            # torch.nn.ReLU(),\n",
    "            # torch.nn.Linear(128, 128),\n",
    "            # torch.nn.ReLU(),\n",
    "            # torch.nn.Linear(128, 128),\n",
    "            # torch.nn.ReLU(),\n",
    "            torch.nn.Linear(128, action_space_size),\n",
    "        )\n",
    "        # self.layer1 = torch.nn.Linear(state_space_dim, 128)\n",
    "        # self.layer2 = torch.nn.Linear(128, 128)\n",
    "        # self.layer3 = torch.nn.Linear(128, action_space_size)\n",
    "        # if cuda and torch.cuda.is_available():\n",
    "        #     self.device = torch.device(\"cuda\")\n",
    "        # self.loss_fn = torch.nn.MSELoss()\n",
    "        # self.optimizer = torch.optim.Adam(self.model.parameters(), lr=0.001)\n",
    "\n",
    "    def forward(self, state):\n",
    "        return self.model(state)\n",
    "        # x = torch.nn.functional.relu(self.layer1(state))\n",
    "        # x = torch.nn.functional.relu(self.layer2(x))\n",
    "        # return self.layer3(x)\n",
    "\n",
    "import itertools\n",
    "from collections import deque, namedtuple\n",
    "\n",
    "Transition = namedtuple(\"Transition\", (\"state\", \"action\", \"next_state\", \"reward\"))\n",
    "\n",
    "\n",
    "class ReplayMemory(object):\n",
    "    def __init__(self, capacity):\n",
    "        self.memory = deque([], maxlen=capacity)\n",
    "\n",
    "    def push(self, *args):\n",
    "        self.memory.append(Transition(*args))\n",
    "\n",
    "    def sample(self, batch_size):\n",
    "        return random.sample(self.memory, batch_size)\n",
    "\n",
    "    def __len__(self):\n",
    "        return len(self.memory)\n",
    "\n",
    "\n",
    "class DeepQLearning(Agent):\n",
    "    def __init__(\n",
    "        self,\n",
    "        state_space_dim,\n",
    "        action_space_size,\n",
    "        batch_size = 128,\n",
    "        gamma=0.99,\n",
    "        start_epsilon=0.9,\n",
    "        end_epsilon=0.05,\n",
    "        epsilon_decay=1000,\n",
    "        tau=0.005,\n",
    "        lr=1e-4,\n",
    "        memory_capacity: int = 10000,\n",
    "        enable_cuda: bool = True,\n",
    "    ):\n",
    "        super().__init__(\"DeepQLearning\")\n",
    "        self.batch_size = batch_size\n",
    "        self.gamma = gamma\n",
    "        self.start_epsilon = start_epsilon\n",
    "        self.end_epsilon = end_epsilon\n",
    "        self.epsilon_decay = epsilon_decay\n",
    "        self.tau = tau\n",
    "        self.lr = lr\n",
    "        self.epsilon = start_epsilon\n",
    "        if enable_cuda:\n",
    "            self.device = (\n",
    "                \"cuda:0\"\n",
    "                if torch.cuda.is_available()\n",
    "                else \"mps\" if torch.backends.mps.is_available() else \"cpu\"\n",
    "            )\n",
    "        else:\n",
    "            self.device = \"cpu\"\n",
    "        gymlogger.info(f\"Using {self.device} device\")\n",
    "        self.policy_net = QNetwork(state_space_dim, action_space_size).to(self.device)\n",
    "        self.target_net = QNetwork(state_space_dim, action_space_size).to(self.device)\n",
    "        self.target_net.load_state_dict(self.policy_net.state_dict())\n",
    "\n",
    "        self.optimizer = torch.optim.AdamW(\n",
    "            self.policy_net.parameters(), lr=self.lr, amsgrad=True\n",
    "        )\n",
    "        self.memory = ReplayMemory(memory_capacity)\n",
    "        \n",
    "    def get_action_vec(self, observation: torch.Tensor) -> torch.Tensor:\n",
    "        with torch.no_grad():\n",
    "            return self.policy_net(observation).max(1).indices.view(1, 1)\n",
    "        \n",
    "    def _get_action(self, observation: Observation) -> int:\n",
    "        return self.get_action_vec(observation.get_vector().to(self.device)).item()\n",
    "\n",
    "    def optimize_model(self):\n",
    "        if len(self.memory) < self.batch_size:\n",
    "            return\n",
    "        \n",
    "        transitions = self.memory.sample(self.batch_size)\n",
    "        \n",
    "        batch = Transition(*zip(*transitions))\n",
    "        \n",
    "        non_final_mask = torch.tensor(tuple(map(lambda s: s is not None,batch.next_state)), device=self.device, dtype=torch.bool)\n",
    "\n",
    "        non_final_next_states = torch.cat([s for s in batch.next_state\n",
    "                                                if s is not None])\n",
    "\n",
    "        state_batch = torch.cat(batch.state)\n",
    "        action_batch = torch.cat(batch.action)\n",
    "        reward_batch = torch.cat(batch.reward)\n",
    "\n",
    "        state_action_values = self.policy_net(state_batch).gather(1, action_batch)\n",
    "\n",
    "        # Compute V(s_{t+1}) for all next states.\n",
    "        # Expected values of actions for non_final_next_states are computed based\n",
    "        # on the \"older\" target_net; selecting their best reward with max(1).values\n",
    "        # This is merged based on the mask, such that we'll have either the expected\n",
    "        # state value or 0 in case the state was final.\n",
    "        next_state_values = torch.zeros(self.batch_size, device=self.device)\n",
    "        with torch.no_grad():\n",
    "            next_state_values[non_final_mask] = self.target_net(non_final_next_states).max(1).values\n",
    "        # Compute the expected Q values\n",
    "        expected_state_action_values = (next_state_values * self.gamma) + reward_batch\n",
    "\n",
    "        # Compute Huber loss\n",
    "        criterion = torch.nn.SmoothL1Loss()\n",
    "        loss = criterion(state_action_values, expected_state_action_values.unsqueeze(1))\n",
    "\n",
    "        # Optimize the model\n",
    "        self.optimizer.zero_grad()\n",
    "        loss.backward()\n",
    "        # In-place gradient clipping\n",
    "        torch.nn.utils.clip_grad_value_(self.policy_net.parameters(), 100)\n",
    "        self.optimizer.step()\n",
    "    \n",
    "    def train(self, env: gym.Env, num_episodes: int = 50):\n",
    "        for i_episode in trange(num_episodes, desc=\"Training Deep Q-Learning Agent\", unit=\"episode\"):\n",
    "            # Initialize the environment and get its state\n",
    "            state, info = env.reset()\n",
    "            state = torch.tensor(state, dtype=torch.float32, device=self.device).unsqueeze(0)\n",
    "            for t in itertools.count():\n",
    "                if random.random() < self.epsilon:\n",
    "                    action = torch.tensor([[env.action_space.sample()]], device=self.device, dtype=torch.long)\n",
    "                else:\n",
    "                    action = self.get_action_vec(state)\n",
    "                observation, reward, terminated, truncated, _ = env.step(action.item())\n",
    "                reward = torch.tensor([reward], device=self.device)\n",
    "                done = terminated or truncated\n",
    "\n",
    "                if terminated:\n",
    "                    next_state = None\n",
    "                else:\n",
    "                    next_state = torch.tensor(observation, dtype=torch.float32, device=self.device).unsqueeze(0)\n",
    "\n",
    "                # Store the transition in memory\n",
    "                self.memory.push(state, action, next_state, reward)\n",
    "\n",
    "                # Move to the next state\n",
    "                state = next_state\n",
    "\n",
    "                # Perform one step of the optimization (on the policy network)\n",
    "                self.optimize_model()\n",
    "\n",
    "                # Soft update of the target network's weights\n",
    "                # θ′ ← τ θ + (1 −τ )θ′\n",
    "                target_net_state_dict = self.target_net.state_dict()\n",
    "                policy_net_state_dict = self.policy_net.state_dict()\n",
    "                for key in policy_net_state_dict:\n",
    "                    target_net_state_dict[key] = policy_net_state_dict[key]*self.tau + target_net_state_dict[key]*(1-self.tau)\n",
    "                self.target_net.load_state_dict(target_net_state_dict)\n",
    "\n",
    "                if done:\n",
    "                    break"
   ]
  },
  {
   "cell_type": "markdown",
   "metadata": {
    "id": "RAi7KKwNiegR"
   },
   "source": [
    "For Task 1, we can show the observation and chosen action below:"
   ]
  },
  {
   "cell_type": "code",
   "execution_count": 115,
   "metadata": {
    "colab": {
     "base_uri": "https://localhost:8080/"
    },
    "id": "ae2ia-vUiNKJ",
    "outputId": "22c614ca-5ba0-43d3-d27a-d79073b5d04e"
   },
   "outputs": [
    {
     "name": "stderr",
     "output_type": "stream",
     "text": [
      "Training Q-Learning Agent: 100%|██████████| 1000/1000 [00:01<00:00, 848.10episode/s]"
     ]
    },
    {
     "name": "stdout",
     "output_type": "stream",
     "text": [
      "Observation: (array([-0.02617271,  0.03959338, -0.04836821,  0.03483151], dtype=float32), {})\n",
      "Chosen action: 0\n"
     ]
    },
    {
     "name": "stderr",
     "output_type": "stream",
     "text": [
      "\n"
     ]
    }
   ],
   "source": [
    "env.reset()\n",
    "q_learning_agent = QLearningAgent()\n",
    "q_learning_agent.train(env)\n",
    "observation = env.reset()\n",
    "action = q_learning_agent(observation)\n",
    "print(\"Observation:\", observation)\n",
    "print(\"Chosen action:\", action)"
   ]
  },
  {
   "cell_type": "code",
   "execution_count": 116,
   "metadata": {},
   "outputs": [
    {
     "name": "stderr",
     "output_type": "stream",
     "text": [
      "Training Deep Q-Learning Agent: 100%|██████████| 50/50 [00:02<00:00, 17.87episode/s]"
     ]
    },
    {
     "name": "stdout",
     "output_type": "stream",
     "text": [
      "Observation: (array([-0.00446141,  0.02374698,  0.00515048,  0.03648043], dtype=float32), {})\n"
     ]
    },
    {
     "name": "stderr",
     "output_type": "stream",
     "text": [
      "\n"
     ]
    }
   ],
   "source": [
    "env.reset()\n",
    "deep_q_learning_agent = DeepQLearning(state_space_dim=4, action_space_size=2, enable_cuda=False)\n",
    "deep_q_learning_agent.train(env)\n",
    "observation = env.reset()\n",
    "print(\"Observation:\", observation)\n",
    "action = deep_q_learning_agent(observation)\n",
    "# print(\"Observation:\", observation)\n",
    "# print(\"Chosen action:\", action)"
   ]
  },
  {
   "cell_type": "markdown",
   "metadata": {
    "id": "-XtIQ0Rti1gm"
   },
   "source": [
    "## Task 2: Demonstrate the effectiveness of the RL agent"
   ]
  },
  {
   "cell_type": "markdown",
   "metadata": {
    "id": "djBEShf0kGI4"
   },
   "source": [
    "For this task, use the agent developed in Task 1 to play the game for 100 episodes (refer to tutorial for how to play a round), record the cumulative reward for each round, and plot the reward for each round. A sample plotting code is given below. Note that you must include code to play for 100 episodes and use the code to obtain round_results for plotting. DO NOT record the round results in advance and paste the results to the notebook."
   ]
  },
  {
   "cell_type": "code",
   "execution_count": 117,
   "metadata": {},
   "outputs": [],
   "source": [
    "from tqdm import tqdm\n",
    "from concurrent.futures import ThreadPoolExecutor\n",
    "\n",
    "\n",
    "def play_episode(agent: Agent, env: gym.Env) -> float:\n",
    "    observation = env.reset()\n",
    "    done = False\n",
    "    truncated = False\n",
    "    reward = 0\n",
    "    while not done and not truncated and reward < 500:\n",
    "        action = agent(observation)\n",
    "        next_observation, r, done, truncated, info = env.step(action)\n",
    "        reward += r\n",
    "        observation = next_observation\n",
    "    reward = min(reward, 500)\n",
    "    return reward\n",
    "\n",
    "\n",
    "def play(agent: Agent, num_episodes: int = 1000, num_threads: int = 1):\n",
    "    all_rewards = []\n",
    "\n",
    "    progress_bar = tqdm(total=num_episodes, desc=\"Playing\", unit=\"episode\")\n",
    "\n",
    "    def play_multiple_episodes(episodes: int, rank: int):\n",
    "        env = gym.make(\"CartPole-v1\")\n",
    "        rewards = []\n",
    "        for i in range(episodes):\n",
    "            progress_bar.update(1)\n",
    "            rewards.append(play_episode(agent, env))\n",
    "        return rewards\n",
    "\n",
    "    with ThreadPoolExecutor(max_workers=num_threads) as executor:\n",
    "        threads_loads = [num_episodes // num_threads] * num_threads\n",
    "        threads_loads[-1] += num_episodes % num_threads\n",
    "        all_rewards = sum(\n",
    "            executor.map(play_multiple_episodes, threads_loads, range(num_threads)), []\n",
    "        )\n",
    "\n",
    "    progress_bar.close()\n",
    "\n",
    "    return np.array(all_rewards)"
   ]
  },
  {
   "cell_type": "code",
   "execution_count": 118,
   "metadata": {},
   "outputs": [
    {
     "name": "stderr",
     "output_type": "stream",
     "text": [
      "Training Deep Q-Learning Agent:   0%|          | 0/1000 [00:00<?, ?episode/s]"
     ]
    },
    {
     "name": "stderr",
     "output_type": "stream",
     "text": [
      "Training Deep Q-Learning Agent: 100%|██████████| 1000/1000 [01:32<00:00, 10.86episode/s]"
     ]
    },
    {
     "name": "stdout",
     "output_type": "stream",
     "text": [
      "Action: 1\n"
     ]
    },
    {
     "name": "stderr",
     "output_type": "stream",
     "text": [
      "\n"
     ]
    }
   ],
   "source": [
    "env.reset()\n",
    "deep_q_learning_agent = DeepQLearning(state_space_dim=4, action_space_size=2, enable_cuda=True)\n",
    "deep_q_learning_agent.train(env, num_episodes=1000)\n",
    "observation = env.reset()\n",
    "print(\"Action:\", deep_q_learning_agent(observation))"
   ]
  },
  {
   "cell_type": "code",
   "execution_count": 119,
   "metadata": {},
   "outputs": [
    {
     "name": "stderr",
     "output_type": "stream",
     "text": [
      "Playing: 100%|██████████| 100/100 [00:10<00:00,  9.29episode/s]\n"
     ]
    },
    {
     "data": {
      "image/png": "[encoded data removed]",
      "text/plain": [
       "<Figure size 640x480 with 1 Axes>"
      ]
     },
     "metadata": {},
     "output_type": "display_data"
    }
   ],
   "source": [
    "episode_results = play(deep_q_learning_agent, num_episodes=100, num_threads=30)\n",
    "plt.plot(episode_results)\n",
    "plt.title(\"Cumulative reward for each episode\")\n",
    "plt.ylabel(\"Cumulative reward\")\n",
    "plt.xlabel(\"episode\")\n",
    "plt.show()"
   ]
  },
  {
   "cell_type": "code",
   "execution_count": 70,
   "metadata": {
    "colab": {
     "base_uri": "https://localhost:8080/",
     "height": 295
    },
    "id": "RZrCKywQi6CE",
    "outputId": "e304ecc5-14b6-4cf1-831b-dcb42eb46351"
   },
   "outputs": [
    {
     "name": "stderr",
     "output_type": "stream",
     "text": [
      "Training Q-Learning Agent:  38%|███▊      | 3788/10000 [00:09<00:15, 393.41episode/s]\n"
     ]
    },
    {
     "ename": "KeyboardInterrupt",
     "evalue": "",
     "output_type": "error",
     "traceback": [
      "\u001b[0;31m---------------------------------------------------------------------------\u001b[0m",
      "\u001b[0;31mKeyboardInterrupt\u001b[0m                         Traceback (most recent call last)",
      "Cell \u001b[0;32mIn[70], line 2\u001b[0m\n\u001b[1;32m      1\u001b[0m q_learning_agent \u001b[38;5;241m=\u001b[39m QLearningAgent(alpha\u001b[38;5;241m=\u001b[39m\u001b[38;5;241m0.1\u001b[39m, epsilon\u001b[38;5;241m=\u001b[39m\u001b[38;5;241m0.5\u001b[39m, gamma\u001b[38;5;241m=\u001b[39m\u001b[38;5;241m0.999\u001b[39m)\n\u001b[0;32m----> 2\u001b[0m \u001b[43mq_learning_agent\u001b[49m\u001b[38;5;241;43m.\u001b[39;49m\u001b[43mtrain\u001b[49m\u001b[43m(\u001b[49m\u001b[43menv\u001b[49m\u001b[43m,\u001b[49m\u001b[43m \u001b[49m\u001b[43mnum_episodes\u001b[49m\u001b[38;5;241;43m=\u001b[39;49m\u001b[38;5;241;43m10000\u001b[39;49m\u001b[43m)\u001b[49m\n\u001b[1;32m      3\u001b[0m q_learning_agent\u001b[38;5;241m.\u001b[39malpha \u001b[38;5;241m=\u001b[39m \u001b[38;5;241m0.05\u001b[39m\n\u001b[1;32m      4\u001b[0m q_learning_agent\u001b[38;5;241m.\u001b[39mepsilon \u001b[38;5;241m=\u001b[39m \u001b[38;5;241m0.1\u001b[39m\n",
      "Cell \u001b[0;32mIn[65], line 59\u001b[0m, in \u001b[0;36mQLearningAgent.train\u001b[0;34m(self, env, num_episodes)\u001b[0m\n\u001b[1;32m     55\u001b[0m episode_rewards \u001b[38;5;241m=\u001b[39m []\n\u001b[1;32m     56\u001b[0m \u001b[38;5;28;01mfor\u001b[39;00m episode \u001b[38;5;129;01min\u001b[39;00m trange(\n\u001b[1;32m     57\u001b[0m     num_episodes, desc\u001b[38;5;241m=\u001b[39m\u001b[38;5;124m\"\u001b[39m\u001b[38;5;124mTraining Q-Learning Agent\u001b[39m\u001b[38;5;124m\"\u001b[39m, unit\u001b[38;5;241m=\u001b[39m\u001b[38;5;124m\"\u001b[39m\u001b[38;5;124mepisode\u001b[39m\u001b[38;5;124m\"\u001b[39m\n\u001b[1;32m     58\u001b[0m ):\n\u001b[0;32m---> 59\u001b[0m     episode_rewards\u001b[38;5;241m.\u001b[39mappend(\u001b[38;5;28;43mself\u001b[39;49m\u001b[38;5;241;43m.\u001b[39;49m\u001b[43mtrain_episode\u001b[49m\u001b[43m(\u001b[49m\u001b[43menv\u001b[49m\u001b[43m)\u001b[49m)\n",
      "Cell \u001b[0;32mIn[65], line 38\u001b[0m, in \u001b[0;36mQLearningAgent.train_episode\u001b[0;34m(self, env)\u001b[0m\n\u001b[1;32m     36\u001b[0m \u001b[38;5;28;01mwhile\u001b[39;00m \u001b[38;5;129;01mnot\u001b[39;00m done \u001b[38;5;129;01mand\u001b[39;00m \u001b[38;5;129;01mnot\u001b[39;00m truncated \u001b[38;5;129;01mand\u001b[39;00m sum_reward \u001b[38;5;241m<\u001b[39m \u001b[38;5;241m500\u001b[39m:\n\u001b[1;32m     37\u001b[0m     \u001b[38;5;28;01mif\u001b[39;00m random\u001b[38;5;241m.\u001b[39mrandom() \u001b[38;5;241m<\u001b[39m \u001b[38;5;28mself\u001b[39m\u001b[38;5;241m.\u001b[39mepsilon:\n\u001b[0;32m---> 38\u001b[0m         action \u001b[38;5;241m=\u001b[39m \u001b[43mrandom\u001b[49m\u001b[38;5;241;43m.\u001b[39;49m\u001b[43mrandint\u001b[49m\u001b[43m(\u001b[49m\u001b[38;5;241;43m0\u001b[39;49m\u001b[43m,\u001b[49m\u001b[43m \u001b[49m\u001b[38;5;241;43m1\u001b[39;49m\u001b[43m)\u001b[49m\n\u001b[1;32m     39\u001b[0m     \u001b[38;5;28;01melse\u001b[39;00m:\n\u001b[1;32m     40\u001b[0m         action \u001b[38;5;241m=\u001b[39m \u001b[38;5;28mself\u001b[39m\u001b[38;5;241m.\u001b[39mget_action(observation)\n",
      "File \u001b[0;32m/data/fypu/anaconda3/envs/SC3000/lib/python3.9/random.py:338\u001b[0m, in \u001b[0;36mRandom.randint\u001b[0;34m(self, a, b)\u001b[0m\n\u001b[1;32m    334\u001b[0m \u001b[38;5;28;01mdef\u001b[39;00m \u001b[38;5;21mrandint\u001b[39m(\u001b[38;5;28mself\u001b[39m, a, b):\n\u001b[1;32m    335\u001b[0m \u001b[38;5;250m    \u001b[39m\u001b[38;5;124;03m\"\"\"Return random integer in range [a, b], including both end points.\u001b[39;00m\n\u001b[1;32m    336\u001b[0m \u001b[38;5;124;03m    \"\"\"\u001b[39;00m\n\u001b[0;32m--> 338\u001b[0m     \u001b[38;5;28;01mreturn\u001b[39;00m \u001b[38;5;28;43mself\u001b[39;49m\u001b[38;5;241;43m.\u001b[39;49m\u001b[43mrandrange\u001b[49m\u001b[43m(\u001b[49m\u001b[43ma\u001b[49m\u001b[43m,\u001b[49m\u001b[43m \u001b[49m\u001b[43mb\u001b[49m\u001b[38;5;241;43m+\u001b[39;49m\u001b[38;5;241;43m1\u001b[39;49m\u001b[43m)\u001b[49m\n",
      "File \u001b[0;32m/data/fypu/anaconda3/envs/SC3000/lib/python3.9/random.py:314\u001b[0m, in \u001b[0;36mRandom.randrange\u001b[0;34m(self, start, stop, step)\u001b[0m\n\u001b[1;32m    312\u001b[0m width \u001b[38;5;241m=\u001b[39m istop \u001b[38;5;241m-\u001b[39m istart\n\u001b[1;32m    313\u001b[0m \u001b[38;5;28;01mif\u001b[39;00m step \u001b[38;5;241m==\u001b[39m \u001b[38;5;241m1\u001b[39m \u001b[38;5;129;01mand\u001b[39;00m width \u001b[38;5;241m>\u001b[39m \u001b[38;5;241m0\u001b[39m:\n\u001b[0;32m--> 314\u001b[0m     \u001b[38;5;28;01mreturn\u001b[39;00m istart \u001b[38;5;241m+\u001b[39m \u001b[38;5;28;43mself\u001b[39;49m\u001b[38;5;241;43m.\u001b[39;49m\u001b[43m_randbelow\u001b[49m\u001b[43m(\u001b[49m\u001b[43mwidth\u001b[49m\u001b[43m)\u001b[49m\n\u001b[1;32m    315\u001b[0m \u001b[38;5;28;01mif\u001b[39;00m step \u001b[38;5;241m==\u001b[39m \u001b[38;5;241m1\u001b[39m:\n\u001b[1;32m    316\u001b[0m     \u001b[38;5;28;01mraise\u001b[39;00m \u001b[38;5;167;01mValueError\u001b[39;00m(\u001b[38;5;124m\"\u001b[39m\u001b[38;5;124mempty range for randrange() (\u001b[39m\u001b[38;5;132;01m%d\u001b[39;00m\u001b[38;5;124m, \u001b[39m\u001b[38;5;132;01m%d\u001b[39;00m\u001b[38;5;124m, \u001b[39m\u001b[38;5;132;01m%d\u001b[39;00m\u001b[38;5;124m)\u001b[39m\u001b[38;5;124m\"\u001b[39m \u001b[38;5;241m%\u001b[39m (istart, istop, width))\n",
      "File \u001b[0;32m/data/fypu/anaconda3/envs/SC3000/lib/python3.9/random.py:245\u001b[0m, in \u001b[0;36mRandom._randbelow_with_getrandbits\u001b[0;34m(self, n)\u001b[0m\n\u001b[1;32m    243\u001b[0m k \u001b[38;5;241m=\u001b[39m n\u001b[38;5;241m.\u001b[39mbit_length()  \u001b[38;5;66;03m# don't use (n-1) here because n can be 1\u001b[39;00m\n\u001b[1;32m    244\u001b[0m r \u001b[38;5;241m=\u001b[39m getrandbits(k)  \u001b[38;5;66;03m# 0 <= r < 2**k\u001b[39;00m\n\u001b[0;32m--> 245\u001b[0m \u001b[38;5;28;01mwhile\u001b[39;00m \u001b[43mr\u001b[49m\u001b[43m \u001b[49m\u001b[38;5;241;43m>\u001b[39;49m\u001b[38;5;241;43m=\u001b[39;49m\u001b[43m \u001b[49m\u001b[43mn\u001b[49m:\n\u001b[1;32m    246\u001b[0m     r \u001b[38;5;241m=\u001b[39m getrandbits(k)\n\u001b[1;32m    247\u001b[0m \u001b[38;5;28;01mreturn\u001b[39;00m r\n",
      "\u001b[0;31mKeyboardInterrupt\u001b[0m: "
     ]
    }
   ],
   "source": [
    "q_learning_agent = QLearningAgent(alpha=0.1, epsilon=0.5, gamma=0.999)\n",
    "q_learning_agent.train(env, num_episodes=10000)\n",
    "q_learning_agent.alpha = 0.05\n",
    "q_learning_agent.epsilon = 0.1\n",
    "q_learning_agent.train(env, num_episodes=10000)\n",
    "episode_results = play(q_learning_agent, num_episodes=100, num_threads=30)\n",
    "plt.plot(episode_results)\n",
    "plt.title(\"Cumulative reward for each episode\")\n",
    "plt.ylabel(\"Cumulative reward\")\n",
    "plt.xlabel(\"episode\")\n",
    "plt.show()"
   ]
  },
  {
   "cell_type": "markdown",
   "metadata": {
    "id": "XndSYH7wlvn7"
   },
   "source": [
    "Print the average reward over the 100 episodes."
   ]
  },
  {
   "cell_type": "code",
   "execution_count": 101,
   "metadata": {
    "colab": {
     "base_uri": "https://localhost:8080/"
    },
    "id": "pOiOp9OYlo5Y",
    "outputId": "7a02ba7b-ff17-41f2-aa7f-eb50d49a83fd"
   },
   "outputs": [
    {
     "name": "stdout",
     "output_type": "stream",
     "text": [
      "Average cumulative reward: 135.57\n",
      "Is my agent good enough? False\n"
     ]
    }
   ],
   "source": [
    "print(\"Average cumulative reward:\", episode_results.mean())\n",
    "print(\"Is my agent good enough?\", episode_results.mean() > 195)"
   ]
  },
  {
   "cell_type": "markdown",
   "metadata": {
    "id": "Yg0DCT38lFA6"
   },
   "source": [
    "## Task 3: Render one episode played by the agent"
   ]
  },
  {
   "cell_type": "code",
   "execution_count": 75,
   "metadata": {},
   "outputs": [],
   "source": [
    "import os\n",
    "import imageio\n",
    "import datetime\n",
    "from PIL import Image\n",
    "from IPython.display import Video\n",
    "\n",
    "\n",
    "def get_video_path(\n",
    "    agent: Agent, *, video_name: str = \"default\", video_folder: str = \"video\"\n",
    ") -> str:\n",
    "    os.makedirs(video_folder, exist_ok=True)\n",
    "    if video_name == \"default\":\n",
    "        video_name = f\"{agent.name}_{datetime.datetime.now().strftime('%Y%m%d%H%M%S')}\"\n",
    "    if not video_name.endswith(\".mp4\"):\n",
    "        video_name += \".mp4\"\n",
    "    return os.path.join(video_folder, video_name)\n",
    "\n",
    "\n",
    "def render(\n",
    "    agent: Agent,\n",
    "    video_name: str = \"default\",\n",
    "    fps: int = 20,\n",
    "    width: int = 600,\n",
    "    height: int = 400,\n",
    "    video_folder: str = \"video\",\n",
    "):\n",
    "    env = gym.make(\"CartPole-v1\", render_mode=\"rgb_array\")\n",
    "\n",
    "    frames = []\n",
    "    observation = env.reset()\n",
    "    while True:\n",
    "        frames.append(Image.fromarray(env.render()).resize((width, height)))\n",
    "        action = agent(observation)\n",
    "        observation, reward, terminated, truncated, info = env.step(action)\n",
    "        if terminated or truncated:\n",
    "            break\n",
    "\n",
    "    env.close()\n",
    "\n",
    "    video_path = get_video_path(agent, video_name=video_name, video_folder=video_folder)\n",
    "    imageio.mimsave(video_path, frames, fps=fps)\n",
    "\n",
    "    return Video(video_path)"
   ]
  },
  {
   "cell_type": "code",
   "execution_count": null,
   "metadata": {},
   "outputs": [
    {
     "ename": "",
     "evalue": "",
     "output_type": "error",
     "traceback": [
      "\u001b[1;31mThe Kernel crashed while executing code in the current cell or a previous cell. \n",
      "\u001b[1;31mPlease review the code in the cell(s) to identify a possible cause of the failure. \n",
      "\u001b[1;31mClick <a href='https://aka.ms/vscodeJupyterKernelCrash'>here</a> for more info. \n",
      "\u001b[1;31mView Jupyter <a href='command:jupyter.viewOutput'>log</a> for further details."
     ]
    }
   ],
   "source": [
    "render(q_learning_agent)"
   ]
  },
  {
   "cell_type": "code",
   "execution_count": 104,
   "metadata": {},
   "outputs": [
    {
     "name": "stderr",
     "output_type": "stream",
     "text": [
      "IMAGEIO FFMPEG_WRITER WARNING: input image is not divisible by macro_block_size=16, resizing from (600, 400) to (608, 400) to ensure video compatibility with most codecs and players. To prevent resizing, make your input image divisible by the macro_block_size or set the macro_block_size to 1 (risking incompatibility).\n",
      "[swscaler @ 0x62d4c40] Warning: data is not aligned! This can lead to a speed loss\n"
     ]
    },
    {
     "data": {
      "text/html": [
       "<video src=\"video/DeepQLearning_20240329224125.mp4\" controls  >\n",
       "      Your browser does not support the <code>video</code> element.\n",
       "    </video>"
      ],
      "text/plain": [
       "<IPython.core.display.Video object>"
      ]
     },
     "execution_count": 104,
     "metadata": {},
     "output_type": "execute_result"
    }
   ],
   "source": [
    "render(deep_q_learning_agent)\n"
   ]
  },
  {
   "cell_type": "code",
   "execution_count": null,
   "metadata": {},
   "outputs": [],
   "source": []
  }
 ],
 "metadata": {
  "colab": {
   "authorship_tag": "ABX9TyNczA+lJQOKjOo4XtzYjWQc",
   "include_colab_link": true,
   "provenance": []
  },
  "kernelspec": {
   "display_name": "Python 3",
   "name": "python3"
  },
  "language_info": {
   "codemirror_mode": {
    "name": "ipython",
    "version": 3
   },
   "file_extension": ".py",
   "mimetype": "text/x-python",
   "name": "python",
   "nbconvert_exporter": "python",
   "pygments_lexer": "ipython3",
   "version": "3.9.19"
  }
 },
 "nbformat": 4,
 "nbformat_minor": 0
}
