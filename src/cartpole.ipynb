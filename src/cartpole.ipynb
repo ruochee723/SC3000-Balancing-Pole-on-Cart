{
 "cells": [
  {
   "cell_type": "markdown",
   "metadata": {
    "colab_type": "text",
    "id": "view-in-github"
   },
   "source": [
    "<a href=\"https://colab.research.google.com/github/ruochee723/SC3000-Balancing-Pole-on-Cart/blob/main/src/cartpole.ipynb\" target=\"_parent\"><img src=\"https://colab.research.google.com/assets/colab-badge.svg\" alt=\"Open In Colab\"/></a>"
   ]
  },
  {
   "cell_type": "markdown",
   "metadata": {
    "id": "ZauhjPSfX7pI"
   },
   "source": [
    "# Tutorial and Sample Code for Balancing a Pole on a Cart"
   ]
  },
  {
   "cell_type": "markdown",
   "metadata": {
    "id": "RwKbYeTgbaTA"
   },
   "source": [
    "## Importing dependencies and define helper functions"
   ]
  },
  {
   "cell_type": "code",
   "execution_count": 66,
   "metadata": {
    "id": "j6KpgCLGYWmj"
   },
   "outputs": [],
   "source": [
    "import gym\n",
    "from gym import logger as gymlogger\n",
    "from gym.wrappers import RecordVideo\n",
    "\n",
    "# gymlogger.set_level(40)  # error only\n",
    "import tensorflow as tf\n",
    "import numpy as np\n",
    "import random\n",
    "import matplotlib\n",
    "import matplotlib.pyplot as plt\n",
    "\n",
    "import math\n",
    "import glob\n",
    "import io\n",
    "import base64\n",
    "\n",
    "from typing import Tuple\n",
    "\n",
    "random.seed(42)"
   ]
  },
  {
   "cell_type": "markdown",
   "metadata": {
    "id": "2oIzK9SzhlWN"
   },
   "source": [
    "## Task 1: Development of an RL agent"
   ]
  },
  {
   "cell_type": "code",
   "execution_count": 67,
   "metadata": {},
   "outputs": [],
   "source": [
    "env = gym.make(\"CartPole-v1\")"
   ]
  },
  {
   "cell_type": "code",
   "execution_count": 337,
   "metadata": {},
   "outputs": [],
   "source": [
    "POSITION_RANGE = 4.8\n",
    "ANGLE_RANGE = 0.418\n",
    "\n",
    "NUM_BINS = {\n",
    "    \"position\": 20,\n",
    "    \"velocity\": 20,\n",
    "    \"pole_angle\": 20,\n",
    "    \"pole_velocity\": 20,\n",
    "}"
   ]
  },
  {
   "cell_type": "code",
   "execution_count": 338,
   "metadata": {},
   "outputs": [],
   "source": [
    "def discretize(x: float, min_val: float, max_val: float, num_bins: int) -> int:\n",
    "    if x > max_val:\n",
    "        return num_bins - 1\n",
    "    elif x < min_val:\n",
    "        return 0\n",
    "    else:\n",
    "        return round((x - min_val) / (max_val - min_val) * (num_bins - 1))"
   ]
  },
  {
   "cell_type": "code",
   "execution_count": 356,
   "metadata": {},
   "outputs": [],
   "source": [
    "from scipy.special import expit as sigmoid\n",
    "from typing import Dict\n",
    "\n",
    "\n",
    "def get_num_states():\n",
    "    num_states = 1\n",
    "    for num_bins in NUM_BINS.values():\n",
    "        num_states *= num_bins\n",
    "    return num_states\n",
    "\n",
    "\n",
    "NUM_STATES = get_num_states()\n",
    "\n",
    "\n",
    "class Observation(object):\n",
    "    def __init__(self, observation):\n",
    "        if isinstance(observation, tuple):\n",
    "            observation = observation[0]\n",
    "        if not isinstance(observation, np.ndarray):\n",
    "            gymlogger.error(f\"Error: Observation ({observation}) is not a numpy array\")\n",
    "            raise ValueError(\"Observation is not a numpy array\")\n",
    "        if observation.shape != (4,):\n",
    "            gymlogger.error(\n",
    "                f\"Error: Observation shape ({observation.shape}) is not (4,)\"\n",
    "            )\n",
    "            raise ValueError(\"Observation shape is not (4,)\")\n",
    "        self.observation = observation\n",
    "\n",
    "    def position(self):\n",
    "        return self.observation[0]\n",
    "\n",
    "    def velocity(self):\n",
    "        return self.observation[1]\n",
    "\n",
    "    def pole_angle(self):\n",
    "        return self.observation[2]\n",
    "\n",
    "    def pole_velocity(self):\n",
    "        return self.observation[3]\n",
    "\n",
    "    def get_hashed_state_dict(self) -> Dict[str, int]:\n",
    "        return {\n",
    "            \"position\": discretize(\n",
    "                self.position(), -POSITION_RANGE, POSITION_RANGE, NUM_BINS[\"position\"]\n",
    "            ),\n",
    "            \"velocity\": discretize(\n",
    "                sigmoid(self.velocity()),\n",
    "                -1,\n",
    "                1,\n",
    "                NUM_BINS[\"velocity\"],\n",
    "            ),\n",
    "            \"pole_angle\": discretize(\n",
    "                self.pole_angle(), -ANGLE_RANGE, ANGLE_RANGE, NUM_BINS[\"pole_angle\"]\n",
    "            ),\n",
    "            \"pole_velocity\": discretize(\n",
    "                sigmoid(self.pole_velocity()),\n",
    "                -1,\n",
    "                1,\n",
    "                NUM_BINS[\"pole_velocity\"],\n",
    "            ),\n",
    "        }\n",
    "\n",
    "    def get_hashed_state(self) -> int:\n",
    "        hashed_state_tuple = self.get_hashed_state_dict()\n",
    "        mul = 1\n",
    "        hashed_state = 0\n",
    "        for key, val in hashed_state_tuple.items():\n",
    "            hashed_state += val * mul\n",
    "            mul *= NUM_BINS[key]\n",
    "        assert 0 <= hashed_state < NUM_STATES\n",
    "        return hashed_state\n",
    "\n",
    "\n",
    "def get_hashed_state(observation: np.ndarray) -> int:\n",
    "    return Observation(observation).get_hashed_state()"
   ]
  },
  {
   "cell_type": "markdown",
   "metadata": {},
   "source": [
    "### Abstract Class for RL Agent"
   ]
  },
  {
   "cell_type": "code",
   "execution_count": 357,
   "metadata": {},
   "outputs": [],
   "source": [
    "from abc import ABC, abstractmethod\n",
    "\n",
    "\n",
    "class Agent(ABC):\n",
    "    def __init__(self, name: str):\n",
    "        self.name = name\n",
    "\n",
    "    @abstractmethod\n",
    "    def _get_action(self, observation: Observation) -> int:\n",
    "        raise NotImplementedError\n",
    "\n",
    "    def get_action(self, observation: np.ndarray) -> int:\n",
    "        return self._get_action(Observation(observation))\n",
    "\n",
    "    def __call__(self, observation: np.ndarray) -> int:\n",
    "        return self.get_action(observation)"
   ]
  },
  {
   "cell_type": "markdown",
   "metadata": {},
   "source": [
    "### Random Agent"
   ]
  },
  {
   "cell_type": "code",
   "execution_count": 358,
   "metadata": {},
   "outputs": [],
   "source": [
    "class RandomAgent(Agent):\n",
    "    def __init__(self):\n",
    "        super().__init__(\"RandomAgent\")\n",
    "\n",
    "    def _get_action(self, observation: Observation) -> int:\n",
    "        return random.randint(0, 1)"
   ]
  },
  {
   "cell_type": "markdown",
   "metadata": {},
   "source": [
    "### Q Learning Agent"
   ]
  },
  {
   "cell_type": "code",
   "execution_count": 359,
   "metadata": {},
   "outputs": [],
   "source": [
    "from tqdm import trange\n",
    "\n",
    "\n",
    "class QLearningAgent(Agent):\n",
    "    def __init__(\n",
    "        self,\n",
    "        *,\n",
    "        state_space_size: int = NUM_STATES,\n",
    "        action_space_size: int = 2,\n",
    "        alpha: float = 0.1,\n",
    "        gamma: float = 0.99,\n",
    "        epsilon: float = 0.1,\n",
    "    ):\n",
    "        super().__init__(\"QLearningAgent\")\n",
    "        self.state_space_size = state_space_size\n",
    "        self.action_space_size = action_space_size\n",
    "        self.alpha = alpha\n",
    "        self.gamma = gamma\n",
    "        self.epsilon = epsilon\n",
    "        self.q_table = np.zeros((state_space_size, action_space_size))\n",
    "\n",
    "    def reset(self):\n",
    "        self.q_table = np.zeros((self.state_space_size, self.action_space_size))\n",
    "\n",
    "    def _get_action(self, observation: Observation) -> int:\n",
    "        return np.argmax(self.q_table[observation.get_hashed_state(), :])\n",
    "\n",
    "    def train_episode(self, env: gym.Env):\n",
    "        observation = env.reset()\n",
    "        state = get_hashed_state(observation)\n",
    "        done = False\n",
    "        truncated = False\n",
    "        while not done and not truncated:\n",
    "            if random.random() < self.epsilon:\n",
    "                action = random.randint(0, 1)\n",
    "            else:\n",
    "                action = self.get_action(observation)\n",
    "            next_observation, reward, done, truncated, info = env.step(action)\n",
    "            next_state = get_hashed_state(next_observation)\n",
    "            self.q_table[state, action] += self.alpha * (\n",
    "                reward\n",
    "                + self.gamma * np.max(self.q_table[next_state, :])\n",
    "                - self.q_table[state, action]\n",
    "            )\n",
    "            state = next_state\n",
    "            observation = next_observation\n",
    "\n",
    "    def train(self, env: gym.Env = None, *, num_episodes: int = 1000) -> np.ndarray:\n",
    "        if env is None:\n",
    "            env = gym.make(\"CartPole-v1\")\n",
    "        episode_rewards = []\n",
    "        for episode in trange(\n",
    "            num_episodes, desc=\"Training Q-Learning Agent\", unit=\"episode\"\n",
    "        ):\n",
    "            episode_rewards.append(self.train_episode(env))"
   ]
  },
  {
   "cell_type": "markdown",
   "metadata": {
    "id": "RAi7KKwNiegR"
   },
   "source": [
    "For Task 1, we can show the observation and chosen action below:"
   ]
  },
  {
   "cell_type": "code",
   "execution_count": 360,
   "metadata": {
    "colab": {
     "base_uri": "https://localhost:8080/"
    },
    "id": "ae2ia-vUiNKJ",
    "outputId": "22c614ca-5ba0-43d3-d27a-d79073b5d04e"
   },
   "outputs": [
    {
     "name": "stderr",
     "output_type": "stream",
     "text": [
      "Training Q-Learning Agent: 100%|██████████| 1000/1000 [00:01<00:00, 872.08episode/s]"
     ]
    },
    {
     "name": "stdout",
     "output_type": "stream",
     "text": [
      "Observation: (array([-0.0220827 ,  0.04356645,  0.00591842, -0.02577775], dtype=float32), {})\n",
      "Chosen action: 0\n"
     ]
    },
    {
     "name": "stderr",
     "output_type": "stream",
     "text": [
      "\n"
     ]
    }
   ],
   "source": [
    "observation = env.reset()\n",
    "q_learning_agent = QLearningAgent()\n",
    "q_learning_agent.train(env)\n",
    "action = q_learning_agent(observation)\n",
    "print(\"Observation:\", observation)\n",
    "print(\"Chosen action:\", action)"
   ]
  },
  {
   "cell_type": "markdown",
   "metadata": {
    "id": "-XtIQ0Rti1gm"
   },
   "source": [
    "## Task 2: Demonstrate the effectiveness of the RL agent"
   ]
  },
  {
   "cell_type": "markdown",
   "metadata": {
    "id": "djBEShf0kGI4"
   },
   "source": [
    "For this task, use the agent developed in Task 1 to play the game for 100 episodes (refer to tutorial for how to play a round), record the cumulative reward for each round, and plot the reward for each round. A sample plotting code is given below. Note that you must include code to play for 100 episodes and use the code to obtain round_results for plotting. DO NOT record the round results in advance and paste the results to the notebook."
   ]
  },
  {
   "cell_type": "code",
   "execution_count": 344,
   "metadata": {},
   "outputs": [],
   "source": [
    "from tqdm import tqdm\n",
    "from concurrent.futures import ThreadPoolExecutor\n",
    "\n",
    "\n",
    "def play_episode(agent: Agent, env: gym.Env) -> float:\n",
    "    observation = env.reset()\n",
    "    done = False\n",
    "    truncated = False\n",
    "    reward = 0\n",
    "    while not done and not truncated:\n",
    "        action = agent(observation)\n",
    "        next_observation, r, done, truncated, info = env.step(action)\n",
    "        reward += r\n",
    "        observation = next_observation\n",
    "    return reward\n",
    "\n",
    "\n",
    "def play(agent: Agent, num_episodes: int = 1000, num_threads: int = 1):\n",
    "    all_rewards = []\n",
    "\n",
    "    progress_bar = tqdm(total=num_episodes, desc=\"Playing\", unit=\"episode\")\n",
    "\n",
    "    def play_multiple_episodes(episodes: int, rank: int):\n",
    "        env = gym.make(\"CartPole-v1\")\n",
    "        rewards = []\n",
    "        for i in range(episodes):\n",
    "            progress_bar.update(1)\n",
    "            rewards.append(play_episode(agent, env))\n",
    "        return rewards\n",
    "\n",
    "    with ThreadPoolExecutor(max_workers=num_threads) as executor:\n",
    "        threads_loads = [num_episodes // num_threads] * num_threads\n",
    "        threads_loads[-1] += num_episodes % num_threads\n",
    "        all_rewards = sum(\n",
    "            executor.map(play_multiple_episodes, threads_loads, range(num_threads)), []\n",
    "        )\n",
    "\n",
    "    progress_bar.close()\n",
    "\n",
    "    return np.array(all_rewards)"
   ]
  },
  {
   "cell_type": "code",
   "execution_count": 361,
   "metadata": {
    "colab": {
     "base_uri": "https://localhost:8080/",
     "height": 295
    },
    "id": "RZrCKywQi6CE",
    "outputId": "e304ecc5-14b6-4cf1-831b-dcb42eb46351"
   },
   "outputs": [
    {
     "name": "stderr",
     "output_type": "stream",
     "text": [
      "Training Q-Learning Agent: 100%|██████████| 10000/10000 [00:37<00:00, 263.32episode/s]\n",
      "Training Q-Learning Agent: 100%|██████████| 10000/10000 [02:36<00:00, 63.89episode/s]\n",
      "Playing:   0%|          | 0/100 [00:00<?, ?episode/s]/data/fypu/anaconda3/envs/SC3000/lib/python3.9/site-packages/gym/utils/passive_env_checker.py:233: DeprecationWarning: `np.bool8` is a deprecated alias for `np.bool_`.  (Deprecated NumPy 1.24)\n",
      "  if not isinstance(terminated, (bool, np.bool8)):\n",
      "Playing: 100%|██████████| 100/100 [01:11<00:00,  1.41episode/s]\n"
     ]
    },
    {
     "data": {
      "image/png": "[encoded data removed]",
      "text/plain": [
       "<Figure size 640x480 with 1 Axes>"
      ]
     },
     "metadata": {},
     "output_type": "display_data"
    }
   ],
   "source": [
    "q_learning_agent = QLearningAgent(alpha=0.1, epsilon=0.5, gamma=0.999)\n",
    "q_learning_agent.train(env, num_episodes=10000)\n",
    "q_learning_agent.alpha = 0.05\n",
    "q_learning_agent.epsilon = 0.1\n",
    "q_learning_agent.train(env, num_episodes=10000)\n",
    "episode_results = play(q_learning_agent, num_episodes=100, num_threads=30)\n",
    "plt.plot(episode_results)\n",
    "plt.title(\"Cumulative reward for each episode\")\n",
    "plt.ylabel(\"Cumulative reward\")\n",
    "plt.xlabel(\"episode\")\n",
    "plt.show()"
   ]
  },
  {
   "cell_type": "markdown",
   "metadata": {
    "id": "XndSYH7wlvn7"
   },
   "source": [
    "Print the average reward over the 100 episodes."
   ]
  },
  {
   "cell_type": "code",
   "execution_count": 355,
   "metadata": {
    "colab": {
     "base_uri": "https://localhost:8080/"
    },
    "id": "pOiOp9OYlo5Y",
    "outputId": "7a02ba7b-ff17-41f2-aa7f-eb50d49a83fd"
   },
   "outputs": [
    {
     "name": "stdout",
     "output_type": "stream",
     "text": [
      "Average cumulative reward: 110.21\n",
      "Is my agent good enough? False\n"
     ]
    }
   ],
   "source": [
    "print(\"Average cumulative reward:\", episode_results.mean())\n",
    "print(\"Is my agent good enough?\", episode_results.mean() > 195)"
   ]
  },
  {
   "cell_type": "markdown",
   "metadata": {
    "id": "Yg0DCT38lFA6"
   },
   "source": [
    "## Task 3: Render one episode played by the agent"
   ]
  },
  {
   "cell_type": "code",
   "execution_count": 96,
   "metadata": {},
   "outputs": [],
   "source": [
    "import os\n",
    "import imageio\n",
    "import datetime\n",
    "from PIL import Image\n",
    "from IPython.display import Video\n",
    "\n",
    "\n",
    "def get_video_path(\n",
    "    agent: Agent, *, video_name: str = \"default\", video_folder: str = \"video\"\n",
    ") -> str:\n",
    "    os.makedirs(video_folder, exist_ok=True)\n",
    "    if video_name == \"default\":\n",
    "        video_name = f\"{agent.name}_{datetime.datetime.now().strftime('%Y%m%d%H%M%S')}\"\n",
    "    if not video_name.endswith(\".mp4\"):\n",
    "        video_name += \".mp4\"\n",
    "    return os.path.join(video_folder, video_name)\n",
    "\n",
    "\n",
    "def render(\n",
    "    agent: Agent,\n",
    "    video_name: str = \"default\",\n",
    "    fps: int = 20,\n",
    "    width: int = 600,\n",
    "    height: int = 400,\n",
    "    video_folder: str = \"video\",\n",
    "):\n",
    "    env = gym.make(\"CartPole-v1\", render_mode=\"rgb_array\")\n",
    "\n",
    "    frames = []\n",
    "    observation = env.reset()\n",
    "    while True:\n",
    "        frames.append(Image.fromarray(env.render()).resize((width, height)))\n",
    "        action = agent(observation)\n",
    "        observation, reward, terminated, truncated, info = env.step(action)\n",
    "        if terminated:\n",
    "            break\n",
    "\n",
    "    env.close()\n",
    "\n",
    "    video_path = get_video_path(agent, video_name=video_name, video_folder=video_folder)\n",
    "    imageio.mimsave(video_path, frames, fps=fps)\n",
    "\n",
    "    return Video(video_path)"
   ]
  },
  {
   "cell_type": "code",
   "execution_count": 219,
   "metadata": {},
   "outputs": [
    {
     "name": "stderr",
     "output_type": "stream",
     "text": [
      "Training Q-Learning Agent: 100%|██████████| 10000/10000 [00:25<00:00, 392.81episode/s]\n"
     ]
    }
   ],
   "source": [
    "q_learning_agent = QLearningAgent()\n",
    "q_learning_agent.train(env, num_episodes=10000)\n",
    "None"
   ]
  },
  {
   "cell_type": "code",
   "execution_count": 364,
   "metadata": {},
   "outputs": [
    {
     "name": "stderr",
     "output_type": "stream",
     "text": [
      "IMAGEIO FFMPEG_WRITER WARNING: input image is not divisible by macro_block_size=16, resizing from (600, 400) to (608, 400) to ensure video compatibility with most codecs and players. To prevent resizing, make your input image divisible by the macro_block_size or set the macro_block_size to 1 (risking incompatibility).\n",
      "[swscaler @ 0x7294c40] Warning: data is not aligned! This can lead to a speed loss\n"
     ]
    },
    {
     "data": {
      "text/html": [
       "<video src=\"video/QLearningAgent_20240324204609.mp4\" controls  >\n",
       "      Your browser does not support the <code>video</code> element.\n",
       "    </video>"
      ],
      "text/plain": [
       "<IPython.core.display.Video object>"
      ]
     },
     "execution_count": 364,
     "metadata": {},
     "output_type": "execute_result"
    }
   ],
   "source": [
    "render(q_learning_agent)"
   ]
  },
  {
   "cell_type": "code",
   "execution_count": null,
   "metadata": {},
   "outputs": [],
   "source": []
  }
 ],
 "metadata": {
  "colab": {
   "authorship_tag": "ABX9TyNczA+lJQOKjOo4XtzYjWQc",
   "include_colab_link": true,
   "provenance": []
  },
  "kernelspec": {
   "display_name": "Python 3",
   "name": "python3"
  },
  "language_info": {
   "codemirror_mode": {
    "name": "ipython",
    "version": 3
   },
   "file_extension": ".py",
   "mimetype": "text/x-python",
   "name": "python",
   "nbconvert_exporter": "python",
   "pygments_lexer": "ipython3",
   "version": "3.9.19"
  }
 },
 "nbformat": 4,
 "nbformat_minor": 0
}
